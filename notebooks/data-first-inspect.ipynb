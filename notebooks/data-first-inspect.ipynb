{
 "cells": [
  {
   "cell_type": "code",
   "execution_count": null,
   "metadata": {},
   "outputs": [],
   "source": [
    "import pandas as pd\n",
    "import numpy as np\n",
    "import matplotlib.pyplot as plt\n",
    "\n",
    "Path = dict({\n",
    "    'ptbdb_normal': '../data/raw/ptbdb_normal.csv',\n",
    "    'ptbdb_abnormal': '../data/raw/ptbdb_abnormal.csv',\n",
    "    'mitbih_test': '../data/raw/mitbih_test.csv',\n",
    "    'mitbih_train': '../data/raw/mitbih_train.csv',\n",
    "})\n",
    "\n"
   ]
  },
  {
   "cell_type": "code",
   "execution_count": null,
   "metadata": {},
   "outputs": [],
   "source": [
    "\n",
    "def addColumnsToDataframe(df):\n",
    "    \"\"\"\n",
    "    As the dataset is composed with 188 columns with the 188th columns as the category values, \n",
    "    so we give the last column the name 'target', others named with 'c_182'\n",
    "    \"\"\"\n",
    "    num_columns= df.shape[1]\n",
    "    feature_col_name = ['c_' + str(i) for i in range(0, num_columns - 1)]\n",
    "    df_columns = feature_col_name + ['target']\n",
    "    df.columns = df_columns\n",
    "    return df\n",
    "\n",
    "def convertColumnAsInt(df, column):\n",
    "    \"\"\"\n",
    "    As the category value is in float type. We want to get the int to identify the category.\n",
    "    \"\"\"\n",
    "    df[column] = df[column].astype(int)\n",
    "    return df\n",
    "\n",
    "def getBarChartFromCategoryValueCounts(category_value_counts):\n",
    "    \"\"\"\n",
    "    We call the plot over the pandas series object to plot the category count values \n",
    "    \"\"\"\n",
    "    plt.figure(figsize=(10, 6))\n",
    "    bar_chart = category_value_counts.plot(kind='bar')\n",
    "    plt.xlabel('Categories')\n",
    "    plt.ylabel('Count')\n",
    "    plt.legend()\n",
    "    plt.grid(False)\n",
    "    plt.xticks(rotation=360)\n",
    "    for i in bar_chart.containers:\n",
    "        bar_chart.bar_label(i, label_type='edge')\n",
    "    plt.show()\n",
    "\n",
    "\n",
    "def showTop10DataInChart(df):\n",
    "    plt.figure(figsize=(10, 6))\n",
    "    xDataAxis = list(range(0, df.shape[1]))\n",
    "    yDataRows = list(df.values[1: 10])\n",
    "    for y in yDataRows: \n",
    "        plt.plot(xDataAxis, y)\n",
    "    plt.show()"
   ]
  },
  {
   "cell_type": "code",
   "execution_count": null,
   "metadata": {},
   "outputs": [],
   "source": [
    "\n",
    "ptbdb_normal = pd.read_csv(Path.get('ptbdb_normal'), header=None )\n",
    "ptbdb_normal_with_columns = addColumnsToDataframe(ptbdb_normal)\n",
    "\n",
    "# convert target varaible from float to string\n",
    "ptbdb_normal_with_columns = convertColumnAsInt(ptbdb_normal_with_columns, 'target')\n",
    "\n",
    "# get the category value counts. \n",
    "ptbdb_normal_category_counts = ptbdb_normal_with_columns['target'].value_counts()\n",
    "\n",
    "getBarChartFromCategoryValueCounts(ptbdb_normal_category_counts)"
   ]
  },
  {
   "cell_type": "markdown",
   "metadata": {},
   "source": [
    "Check the meanings of the Data Rows(first 10 rows as example):"
   ]
  },
  {
   "cell_type": "code",
   "execution_count": null,
   "metadata": {},
   "outputs": [],
   "source": [
    "showTop10DataInChart(ptbdb_normal_with_columns)"
   ]
  },
  {
   "cell_type": "code",
   "execution_count": null,
   "metadata": {},
   "outputs": [],
   "source": [
    "ptbdb_abnormal = pd.read_csv(Path.get('ptbdb_abnormal'), header=None )\n",
    "ptbdb_abnormal_with_columns = addColumnsToDataframe(ptbdb_abnormal)\n",
    "ptbdb_abnormal_with_columns = convertColumnAsInt(ptbdb_abnormal, 'target')\n",
    "ptbdb_abnormal_category_count = ptbdb_abnormal_with_columns['target'].value_counts()\n",
    "getBarChartFromCategoryValueCounts(ptbdb_abnormal_category_count)"
   ]
  },
  {
   "cell_type": "markdown",
   "metadata": {},
   "source": [
    "Check the sample of abnormal heartbeat signal(first 10 sample as):"
   ]
  },
  {
   "cell_type": "code",
   "execution_count": null,
   "metadata": {},
   "outputs": [],
   "source": [
    "showTop10DataInChart(ptbdb_abnormal_with_columns)"
   ]
  },
  {
   "cell_type": "code",
   "execution_count": null,
   "metadata": {},
   "outputs": [],
   "source": [
    "mitbih_train = pd.read_csv(Path.get('mitbih_test'), header=None )\n",
    "mitbih_train_with_columns = addColumnsToDataframe(mitbih_train)\n",
    "mitbih_train_with_columns = convertColumnAsInt(mitbih_train_with_columns, 'target')\n",
    "getBarChartFromCategoryValueCounts(mitbih_train_with_columns['target'].value_counts())"
   ]
  },
  {
   "cell_type": "code",
   "execution_count": null,
   "metadata": {},
   "outputs": [],
   "source": [
    "mitbih_test = pd.read_csv(Path.get('mitbih_test'), header=None )\n",
    "mitbih_test_with_columns = addColumnsToDataframe(mitbih_test)\n",
    "mitbih_test_with_columns = convertColumnAsInt(mitbih_test_with_columns, 'target')\n",
    "getBarChartFromCategoryValueCounts(mitbih_test_with_columns['target'].value_counts())"
   ]
  }
 ],
 "metadata": {
  "kernelspec": {
   "display_name": "Python 3",
   "language": "python",
   "name": "python3"
  },
  "language_info": {
   "codemirror_mode": {
    "name": "ipython",
    "version": 3
   },
   "file_extension": ".py",
   "mimetype": "text/x-python",
   "name": "python",
   "nbconvert_exporter": "python",
   "pygments_lexer": "ipython3",
   "version": "3.10.14"
  }
 },
 "nbformat": 4,
 "nbformat_minor": 2
}
