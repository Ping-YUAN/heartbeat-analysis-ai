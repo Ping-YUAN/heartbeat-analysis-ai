{
  "cells": [
    {
      "cell_type": "markdown",
      "metadata": {
        "id": "view-in-github",
        "colab_type": "text"
      },
      "source": [
        "<a href=\"https://colab.research.google.com/github/Ping-YUAN/heartbeat-analysis-ai/blob/DataViz_MIT_Sepideh/src/features/build_features.ipynb\" target=\"_parent\"><img src=\"https://colab.research.google.com/assets/colab-badge.svg\" alt=\"Open In Colab\"/></a>"
      ]
    },
    {
      "cell_type": "markdown",
      "metadata": {
        "id": "CjgVSgXcS3Zs"
      },
      "source": [
        "# **Check enviroment **\n",
        "Set data_path to make this notebooks works well not only on local but also on Google drive\n"
      ]
    },
    {
      "cell_type": "code",
      "execution_count": 1,
      "metadata": {
        "colab": {
          "base_uri": "https://localhost:8080/"
        },
        "id": "WU4dmwkLS3Zv",
        "outputId": "6399f11c-ec5e-429b-fa7b-4be9a6c9a36a"
      },
      "outputs": [
        {
          "output_type": "stream",
          "name": "stdout",
          "text": [
            "Running on Google Colab\n",
            "Collecting umap-learn\n",
            "  Downloading umap_learn-0.5.6-py3-none-any.whl (85 kB)\n",
            "\u001b[2K     \u001b[90m━━━━━━━━━━━━━━━━━━━━━━━━━━━━━━━━━━━━━━━━\u001b[0m \u001b[32m85.7/85.7 kB\u001b[0m \u001b[31m1.3 MB/s\u001b[0m eta \u001b[36m0:00:00\u001b[0m\n",
            "\u001b[?25hRequirement already satisfied: numpy>=1.17 in /usr/local/lib/python3.10/dist-packages (from umap-learn) (1.25.2)\n",
            "Requirement already satisfied: scipy>=1.3.1 in /usr/local/lib/python3.10/dist-packages (from umap-learn) (1.11.4)\n",
            "Requirement already satisfied: scikit-learn>=0.22 in /usr/local/lib/python3.10/dist-packages (from umap-learn) (1.2.2)\n",
            "Requirement already satisfied: numba>=0.51.2 in /usr/local/lib/python3.10/dist-packages (from umap-learn) (0.58.1)\n",
            "Collecting pynndescent>=0.5 (from umap-learn)\n",
            "  Downloading pynndescent-0.5.13-py3-none-any.whl (56 kB)\n",
            "\u001b[2K     \u001b[90m━━━━━━━━━━━━━━━━━━━━━━━━━━━━━━━━━━━━━━━━\u001b[0m \u001b[32m56.9/56.9 kB\u001b[0m \u001b[31m4.6 MB/s\u001b[0m eta \u001b[36m0:00:00\u001b[0m\n",
            "\u001b[?25hRequirement already satisfied: tqdm in /usr/local/lib/python3.10/dist-packages (from umap-learn) (4.66.4)\n",
            "Requirement already satisfied: llvmlite<0.42,>=0.41.0dev0 in /usr/local/lib/python3.10/dist-packages (from numba>=0.51.2->umap-learn) (0.41.1)\n",
            "Requirement already satisfied: joblib>=0.11 in /usr/local/lib/python3.10/dist-packages (from pynndescent>=0.5->umap-learn) (1.4.2)\n",
            "Requirement already satisfied: threadpoolctl>=2.0.0 in /usr/local/lib/python3.10/dist-packages (from scikit-learn>=0.22->umap-learn) (3.5.0)\n",
            "Installing collected packages: pynndescent, umap-learn\n",
            "Successfully installed pynndescent-0.5.13 umap-learn-0.5.6\n",
            "Mounted at /content/drive\n"
          ]
        }
      ],
      "source": [
        "import sys\n",
        "import os\n",
        "data_path = ''\n",
        "# Check if the environment is Google Colab\n",
        "if 'google.colab' in sys.modules:\n",
        "    print(\"Running on Google Colab\")\n",
        "    # Install required libraries\n",
        "    # !pip install tensorflow -q\n",
        "    # !pip install keras -q\n",
        "    # !pip install scikit-learn -q\n",
        "    # !pip install pandas -q\n",
        "    # !pip install numpy -q\n",
        "    # !pip install matplotlib -q\n",
        "    !pip install umap-learn\n",
        "\n",
        "    # Mount Google Drive\n",
        "    from google.colab import drive\n",
        "    drive.mount('/content/drive')\n",
        "    # set the path where the csv file stored in your own google drive.\n",
        "    data_path = '/content/drive/MyDrive/Heartbeat_Project/'\n",
        "\n",
        "else:\n",
        "    print(\"Running on local environment\")\n",
        "\n",
        "    current_path = os.getcwd()\n",
        "    print(\"Current working directory:\", current_path)\n",
        "    data_path = '../data/raw/'\n",
        "\n",
        "Path = dict({\n",
        "    'mitbih_test': data_path +  'mitbih_test.csv',\n",
        "    'mitbih_train': data_path +  'mitbih_train.csv',\n",
        "    'mitbih_train_clean': data_path +  'mitbih_train_clean.csv',\n",
        "    'mitbih_test_clean': data_path +  'mitbih_test_clean.csv',\n",
        "    'ptbdb_normal': data_path +  'ptbdb_normal.csv',\n",
        "    'ptbdb_abnormal':  data_path + 'ptbdb_abnormal',\n",
        "})"
      ]
    },
    {
      "cell_type": "markdown",
      "metadata": {
        "id": "w_zUEpN7yIzD"
      },
      "source": [
        "# **Import the necessary packages and define the paths:**"
      ]
    },
    {
      "cell_type": "code",
      "execution_count": 2,
      "metadata": {
        "id": "r5-XAb1V2qBW"
      },
      "outputs": [],
      "source": [
        "\n",
        "# Verify installation and import libraries\n",
        "import tensorflow as tf\n",
        "import keras\n",
        "import sklearn\n",
        "import pandas as pd\n",
        "import numpy as np\n",
        "import matplotlib.pyplot as plt\n",
        "import seaborn as sns\n",
        "from matplotlib.patches import Patch\n",
        "from sklearn.decomposition import PCA\n",
        "from sklearn.preprocessing import StandardScaler, MinMaxScaler, RobustScaler\n",
        "from mpl_toolkits.mplot3d import Axes3D\n",
        "import plotly.express as px\n",
        "from matplotlib.colors import ListedColormap\n",
        "from sklearn.manifold import TSNE\n",
        "from sklearn.linear_model import LogisticRegression\n",
        "from sklearn.ensemble import RandomForestClassifier, GradientBoostingClassifier\n",
        "from sklearn.svm import SVC\n",
        "from sklearn.neighbors import KNeighborsClassifier\n",
        "from sklearn.model_selection import StratifiedKFold\n",
        "from sklearn.metrics import f1_score\n",
        "from scipy.stats import kstest"
      ]
    },
    {
      "cell_type": "markdown",
      "source": [
        "# **Import our clean data set**"
      ],
      "metadata": {
        "id": "OE8iwYtGGOLO"
      }
    },
    {
      "cell_type": "code",
      "source": [
        "mitbih_train = pd.read_csv(Path.get('mitbih_train_clean'), header=0)\n",
        "mitbih_test = pd.read_csv(Path.get('mitbih_test_clean'), header=0)\n",
        "\n",
        "# Show the distribution of the two classes\n",
        "print(mitbih_train['target'].value_counts(normalize=True))\n",
        "print(mitbih_test['target'].value_counts(normalize=True))\n",
        "\n",
        "\n",
        "label_counts = mitbih_train['target'].value_counts(normalize=True)\n",
        "colors = ['green', 'red']\n",
        "labels = ['Normal', 'Abnormal']\n",
        "\n",
        "# Plot a pie chart\n",
        "plt.figure(figsize=(10, 6))\n",
        "plt.pie(label_counts, labels=labels, colors=colors, autopct='%1.1f%%')\n",
        "plt.title('Percentage of Each Label in Training Data')\n",
        "plt.show()\n",
        "\n",
        "# after appling any redampling method on our training data, we should split our data to features(X), target(y) and train and test data. in our dataset we have train and test data then we should only define our X,y\n",
        "# split the training and test data to X,y\n",
        "X_train= mitbih_train.drop(columns=['target'])\n",
        "y_train = mitbih_train['target']\n",
        "\n",
        "X_test = mitbih_test.drop(columns=['target'])\n",
        "y_test = mitbih_test['target']\n"
      ],
      "metadata": {
        "id": "y1qyx46wuxwM",
        "colab": {
          "base_uri": "https://localhost:8080/",
          "height": 660
        },
        "outputId": "aae54ae5-95a2-4658-e925-f80d82f367f0"
      },
      "execution_count": 3,
      "outputs": [
        {
          "output_type": "stream",
          "name": "stdout",
          "text": [
            "target\n",
            "0    0.893347\n",
            "1    0.106653\n",
            "Name: proportion, dtype: float64\n",
            "target\n",
            "0    0.893216\n",
            "1    0.106784\n",
            "Name: proportion, dtype: float64\n"
          ]
        },
        {
          "output_type": "display_data",
          "data": {
            "text/plain": [
              "<Figure size 1000x600 with 1 Axes>"
            ],
            "image/png": "[encoded data removed]"
          },
          "metadata": {}
        }
      ]
    },
    {
      "cell_type": "code",
      "source": [
        "# to find the distribution of our variables, follow the normal distribution or not\n",
        "normal_vars = []\n",
        "non_normal_vars = []\n",
        "\n",
        "for i in range(187):  # 0 to 186\n",
        "    stat, p = kstest(X_train.iloc[:, i], 'norm')\n",
        "    if p > 0.05:\n",
        "        normal_vars.append(f'Variable {i}')\n",
        "    else:\n",
        "        non_normal_vars.append(f'Variable {i}')\n",
        "\n",
        "print(\"Variables following normal distribution:\")\n",
        "print(normal_vars)\n",
        "if len(non_normal_vars) == 187:\n",
        "    print(\"All variables not following normal distribution, then we can decide that MinMaxScalar or RobustScalar could be the best scaling method\")\n",
        "\n",
        "# create a grid of Q-Q plots, to visualize the distribution of all variables\n",
        "\n",
        "# num_vars = 187\n",
        "# num_cols = 6  # Number of columns in the grid\n",
        "# num_rows = num_vars // num_cols + (num_vars % num_cols > 0)\n",
        "\n",
        "# fig, axes = plt.subplots(num_rows, num_cols, figsize=(20, num_rows * 3))\n",
        "\n",
        "# for i in range(num_vars):\n",
        "#     row = i // num_cols\n",
        "#     col = i % num_cols\n",
        "#     ax = axes[row, col]\n",
        "#     stats.probplot(X_train.iloc[:, i], dist=\"norm\", plot=ax)\n",
        "#     ax.set_title(f'Variable {i}')\n",
        "\n",
        "# # Hide any empty subplots\n",
        "# for j in range(i + 1, num_rows * num_cols):\n",
        "#     fig.delaxes(axes.flatten()[j])\n",
        "\n",
        "# plt.tight_layout()\n",
        "# plt.show()\n"
      ],
      "metadata": {
        "colab": {
          "base_uri": "https://localhost:8080/"
        },
        "id": "1WHLS2O9npcj",
        "outputId": "a27bf67b-afcc-4b70-b26b-ba70027186a6"
      },
      "execution_count": 4,
      "outputs": [
        {
          "output_type": "stream",
          "name": "stdout",
          "text": [
            "Variables following normal distribution:\n",
            "[]\n",
            "All variables not following normal distribution, then we can decide that MinMaxScalar or RobustScalar could be the best scaling method\n"
          ]
        }
      ]
    },
    {
      "cell_type": "markdown",
      "metadata": {
        "id": "rWGyuxcScYIe"
      },
      "source": [
        "# **Rescaling**"
      ]
    },
    {
      "cell_type": "code",
      "execution_count": null,
      "metadata": {
        "id": "CS0LD2qYcc0O",
        "colab": {
          "base_uri": "https://localhost:8080/"
        },
        "outputId": "48b8d91b-3f32-44e6-d323-4f1bd11fa77a"
      },
      "outputs": [
        {
          "output_type": "stream",
          "name": "stdout",
          "text": [
            "Scaler: StandardScaler\n",
            "\n",
            "Model: LogisticRegression\n",
            "\n",
            "The scores: \n",
            "\n",
            "[0.18, 0.46, 0.5, 0.48, 0.42]\n",
            "\n",
            "F1-Score mean=0.40925\n",
            "\n",
            "Model: RandomForest\n",
            "\n"
          ]
        }
      ],
      "source": [
        "# Define recommended scalers\n",
        "scalers = {\n",
        "    \"StandardScaler\": StandardScaler(),\n",
        "    \"MinMaxScaler\": MinMaxScaler(),\n",
        "    \"RobustScaler\": RobustScaler()\n",
        "}\n",
        "\n",
        "# Define models to evaluate\n",
        "\n",
        "\n",
        "models = {\n",
        "    \"LogisticRegression\": LogisticRegression(class_weight='balanced', max_iter=1000),\n",
        "    \"RandomForest\": RandomForestClassifier(class_weight='balanced'),\n",
        "    \"SVM\": SVC(class_weight='balanced'),\n",
        "    \"KNN\": KNeighborsClassifier(),\n",
        "    \"GradientBoosting\": GradientBoostingClassifier()\n",
        "}\n",
        "\n",
        "def evaluate_scalers(X, y, scalers, models):\n",
        "    results = {}\n",
        "    for scaler_name, scaler in scalers.items():\n",
        "        print(f\"Scaler: {scaler_name}\", end=\"\\n\\n\")\n",
        "        X_scaled = scaler.fit_transform(X)\n",
        "\n",
        "        # # Visual inspection of the scaled data distribution\n",
        "        # plt.figure(figsize=(12, 6))\n",
        "        # sns.boxplot(data=X_scaled)\n",
        "        # plt.title(f'{scaler_name} Data Distribution')\n",
        "        # plt.show()\n",
        "\n",
        "        skf = StratifiedKFold(n_splits=5)\n",
        "\n",
        "        for model_name, model in models.items():\n",
        "            f_score = []\n",
        "            print(f\"Model: {model_name}\", end=\"\\n\\n\")\n",
        "\n",
        "            for train_index, test_index in skf.split(X_scaled, y):\n",
        "                X_train_, y_train_ = X_scaled[train_index], y[train_index]\n",
        "                X_test_, y_test_ = X_scaled[test_index], y[test_index]\n",
        "\n",
        "                model.fit(X_train_, y_train_)\n",
        "\n",
        "                y_pred_ = model.predict(X_test_)\n",
        "\n",
        "                f_score.append(f1_score(y_test_, y_pred_))\n",
        "\n",
        "            mean_f1_score = np.mean(f_score)\n",
        "            print(\"The scores: \", end=\"\\n\\n\")\n",
        "            print([round(f, 2) for f in f_score], end=\"\\n\\n\")\n",
        "            print('F1-Score mean=%.5f' % (mean_f1_score), end=\"\\n\\n\")\n",
        "\n",
        "            if scaler_name not in results:\n",
        "                results[scaler_name] = {}\n",
        "            results[scaler_name][model_name] = mean_f1_score\n",
        "    return results\n",
        "\n",
        "# Apply evaluation\n",
        "results = evaluate_scalers(X_train, y_train, scalers, models)\n",
        "# Summarize the results\n",
        "for scaler_name, model_scores in results.items():\n",
        "    print(f\"Scaler: {scaler_name}\")\n",
        "    for model_name, score in model_scores.items():\n",
        "        print(f\"  Model: {model_name}, F1-Score mean: {score:.5f}\")\n",
        "    print(\"\\n\")\n"
      ]
    },
    {
      "cell_type": "markdown",
      "metadata": {
        "id": "1EzQDZqygFkD"
      },
      "source": [
        "# **Apply the best rescaling method**"
      ]
    },
    {
      "cell_type": "code",
      "execution_count": null,
      "metadata": {
        "id": "YLKUCu29gE1b"
      },
      "outputs": [],
      "source": [
        "# Initialize the scaler\n",
        "scaler =MinMaxScaler()\n",
        "\n",
        "# Fit the scaler on the training data\n",
        "scaler.fit(X_train)\n",
        "\n",
        "# Transform both the training and test data\n",
        "X_train_scaled = scaler.transform(X_train)\n",
        "X_test_scaled = scaler.transform(X_test)"
      ]
    }
  ],
  "metadata": {
    "colab": {
      "provenance": [],
      "include_colab_link": true
    },
    "kernelspec": {
      "display_name": "Python 3",
      "name": "python3"
    },
    "language_info": {
      "codemirror_mode": {
        "name": "ipython",
        "version": 3
      },
      "file_extension": ".py",
      "mimetype": "text/x-python",
      "name": "python",
      "nbconvert_exporter": "python",
      "pygments_lexer": "ipython3",
      "version": "3.10.13"
    }
  },
  "nbformat": 4,
  "nbformat_minor": 0
}