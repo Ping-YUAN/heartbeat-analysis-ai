{
 "cells": [
  {
   "cell_type": "markdown",
   "metadata": {},
   "source": [
    "# DNN Model(Binary) for MIT data \n",
    "As we concluded before, for MIT data, we apply the following preprocessing:   \n",
    "resampling: Oversampling \\\n",
    "rescaling: MinMax Scaler\n",
    "\n",
    "If you don't have the original files: run the notebook `preprocessing_mit_minmax_oversampling.ipynb`     \n",
    "Input file: (The preprocessed data)   \n",
    "mitbih_train_clean_minmax_oversampling.csv   \n",
    "mitbih_test_clean_minmax_oversampling.csv\n",
    "\n",
    "Output: DNN model trained  \n",
    "model_mit_dnn.pkl  "
   ]
  },
  {
   "cell_type": "code",
   "execution_count": 6,
   "metadata": {},
   "outputs": [
    {
     "name": "stdout",
     "output_type": "stream",
     "text": [
      "Running on local environment\n",
      "Current working directory: /Users/pingyuan/Documents/codeself/heartbeat-analysis-rd/notebooks\n"
     ]
    }
   ],
   "source": [
    "import sys\n",
    "import os \n",
    "\n",
    "data_path = ''\n",
    "model_output_path = ''\n",
    "# check if the enviorment is Google Colab \n",
    "\n",
    "if 'google.colab' in sys.modules:\n",
    "    print(\"Running on Google Colab\")\n",
    "    # Install required libraries\n",
    "    !pip install scikit-learn -q\n",
    "    !pip install pandas -q\n",
    "    !pip install numpy -q\n",
    "    !pip install imbalanced-learn -q\n",
    "\n",
    "    # Mount Google Drive\n",
    "    from google.colab import drive\n",
    "    drive.mount('/content/drive')\n",
    "    # set the path where the csv file stored in your google drive. \n",
    "    data_path = '/content/drive/MyDrive/Heartbeat_Project/'\n",
    "    model_output_path = data_path\n",
    "\n",
    "else:\n",
    "    print(\"Running on local environment\")\n",
    "\n",
    "    current_path = os.getcwd()\n",
    "    print(\"Current working directory:\", current_path)\n",
    "    data_path = '../data/processed/'\n",
    "    model_output_path = '../models/'"
   ]
  },
  {
   "cell_type": "markdown",
   "metadata": {},
   "source": [
    "## Read data \n"
   ]
  },
  {
   "cell_type": "code",
   "execution_count": 7,
   "metadata": {},
   "outputs": [],
   "source": [
    "import pandas as pd\n",
    "import numpy as np\n",
    "from sklearn.tree import DecisionTreeClassifier\n",
    "from sklearn.metrics import f1_score, confusion_matrix, classification_report, roc_curve, auc\n",
    "from sklearn.pipeline import Pipeline\n",
    "from sklearn.model_selection import StratifiedKFold, KFold, GridSearchCV\n",
    "from sklearn.neighbors import KNeighborsClassifier\n",
    "from imblearn.pipeline import Pipeline as ImbPipeline  # Use ImbPipeline for oversampling\n",
    "import matplotlib.pyplot as plt\n",
    "import seaborn as sns\n",
    "\n",
    "\n",
    "RawFiles = dict({\n",
    "    'train': data_path + 'mitbih_train_shift_minmax_oversampling.csv', \n",
    "    'test': data_path + 'mitbih_test_shift_minmax_oversampling.csv'  \n",
    "})\n",
    "\n",
    "\n",
    "OutputFiles = dict({\n",
    "    'model': model_output_path +  'model_mit_dnn' # .pkl'\n",
    "})\n",
    "\n",
    "train = pd.read_csv(RawFiles.get('train'),sep=',',header=0)\n",
    "test = pd.read_csv(RawFiles.get('test'),sep=',',header=0)\n",
    "\n",
    "y_train = train['target']\n",
    "X_train = train.drop('target', axis=1)\n",
    "\n",
    "y_test = test['target']\n",
    "X_test = test.drop('target', axis=1)\n",
    "\n"
   ]
  },
  {
   "cell_type": "code",
   "execution_count": 8,
   "metadata": {},
   "outputs": [
    {
     "data": {
      "text/plain": [
       "187"
      ]
     },
     "execution_count": 8,
     "metadata": {},
     "output_type": "execute_result"
    }
   ],
   "source": [
    "X_train.shape[1]"
   ]
  },
  {
   "cell_type": "markdown",
   "metadata": {},
   "source": [
    "# DNN with MinMax Scaler and Oversampling"
   ]
  },
  {
   "cell_type": "code",
   "execution_count": 9,
   "metadata": {},
   "outputs": [
    {
     "name": "stderr",
     "output_type": "stream",
     "text": [
      "WARNING:absl:At this time, the v2.11+ optimizer `tf.keras.optimizers.Adamax` runs slowly on M1/M2 Macs, please use the legacy Keras optimizer instead, located at `tf.keras.optimizers.legacy.Adamax`.\n",
      "WARNING:absl:There is a known slowdown when using v2.11+ Keras optimizers on M1/M2 Macs. Falling back to the legacy Keras optimizer, i.e., `tf.keras.optimizers.legacy.Adamax`.\n"
     ]
    },
    {
     "name": "stdout",
     "output_type": "stream",
     "text": [
      "Model: \"sequential_1\"\n",
      "_________________________________________________________________\n",
      " Layer (type)                Output Shape              Param #   \n",
      "=================================================================\n",
      " dense_5 (Dense)             (None, 187)               35156     \n",
      "                                                                 \n",
      " batch_normalization_4 (Batc  (None, 187)              748       \n",
      " hNormalization)                                                 \n",
      "                                                                 \n",
      " dense_6 (Dense)             (None, 64)                12032     \n",
      "                                                                 \n",
      " batch_normalization_5 (Batc  (None, 64)               256       \n",
      " hNormalization)                                                 \n",
      "                                                                 \n",
      " dropout_3 (Dropout)         (None, 64)                0         \n",
      "                                                                 \n",
      " dense_7 (Dense)             (None, 32)                2080      \n",
      "                                                                 \n",
      " batch_normalization_6 (Batc  (None, 32)               128       \n",
      " hNormalization)                                                 \n",
      "                                                                 \n",
      " dropout_4 (Dropout)         (None, 32)                0         \n",
      "                                                                 \n",
      " dense_8 (Dense)             (None, 8)                 264       \n",
      "                                                                 \n",
      " batch_normalization_7 (Batc  (None, 8)                32        \n",
      " hNormalization)                                                 \n",
      "                                                                 \n",
      " dropout_5 (Dropout)         (None, 8)                 0         \n",
      "                                                                 \n",
      " dense_9 (Dense)             (None, 1)                 9         \n",
      "                                                                 \n",
      "=================================================================\n",
      "Total params: 50,705\n",
      "Trainable params: 50,123\n",
      "Non-trainable params: 582\n",
      "_________________________________________________________________\n",
      "Epoch 1/100\n",
      "4530/4530 [==============================] - 5s 942us/step - loss: 0.4601 - accuracy: 0.7929 - auc: 0.8690 - val_loss: 0.2059 - val_accuracy: 0.9160 - val_auc: 0.9653 - lr: 0.0010\n",
      "Epoch 2/100\n",
      "4530/4530 [==============================] - 4s 812us/step - loss: 0.2734 - accuracy: 0.8973 - auc: 0.9539 - val_loss: 0.1682 - val_accuracy: 0.9368 - val_auc: 0.9784 - lr: 0.0010\n",
      "Epoch 3/100\n",
      "4530/4530 [==============================] - 4s 788us/step - loss: 0.2270 - accuracy: 0.9184 - auc: 0.9672 - val_loss: 0.1585 - val_accuracy: 0.9414 - val_auc: 0.9816 - lr: 0.0010\n",
      "Epoch 4/100\n",
      "4530/4530 [==============================] - 4s 813us/step - loss: 0.2017 - accuracy: 0.9296 - auc: 0.9736 - val_loss: 0.1593 - val_accuracy: 0.9433 - val_auc: 0.9820 - lr: 0.0010\n",
      "Epoch 5/100\n",
      "4530/4530 [==============================] - 4s 867us/step - loss: 0.1865 - accuracy: 0.9353 - auc: 0.9772 - val_loss: 0.1165 - val_accuracy: 0.9590 - val_auc: 0.9849 - lr: 0.0010\n",
      "Epoch 6/100\n",
      "4530/4530 [==============================] - 4s 820us/step - loss: 0.1716 - accuracy: 0.9408 - auc: 0.9805 - val_loss: 0.1027 - val_accuracy: 0.9650 - val_auc: 0.9846 - lr: 0.0010\n",
      "Epoch 7/100\n",
      "4530/4530 [==============================] - 4s 808us/step - loss: 0.1623 - accuracy: 0.9451 - auc: 0.9823 - val_loss: 0.1010 - val_accuracy: 0.9652 - val_auc: 0.9833 - lr: 0.0010\n",
      "Epoch 8/100\n",
      "4530/4530 [==============================] - 4s 820us/step - loss: 0.1545 - accuracy: 0.9482 - auc: 0.9838 - val_loss: 0.1085 - val_accuracy: 0.9631 - val_auc: 0.9851 - lr: 0.0010\n",
      "Epoch 9/100\n",
      "4502/4530 [============================>.] - ETA: 0s - loss: 0.1446 - accuracy: 0.9520 - auc: 0.9856\n",
      "Epoch 9: ReduceLROnPlateau reducing learning rate to 0.00010000000474974513.\n",
      "4530/4530 [==============================] - 4s 823us/step - loss: 0.1446 - accuracy: 0.9519 - auc: 0.9856 - val_loss: 0.1081 - val_accuracy: 0.9612 - val_auc: 0.9852 - lr: 0.0010\n",
      "Epoch 10/100\n",
      "4530/4530 [==============================] - 4s 848us/step - loss: 0.1243 - accuracy: 0.9593 - auc: 0.9892 - val_loss: 0.1012 - val_accuracy: 0.9650 - val_auc: 0.9855 - lr: 1.0000e-04\n",
      "Epoch 11/100\n",
      "4530/4530 [==============================] - 4s 800us/step - loss: 0.1215 - accuracy: 0.9611 - auc: 0.9894 - val_loss: 0.1009 - val_accuracy: 0.9650 - val_auc: 0.9857 - lr: 1.0000e-04\n",
      "Epoch 12/100\n",
      "4530/4530 [==============================] - 4s 813us/step - loss: 0.1186 - accuracy: 0.9615 - auc: 0.9899 - val_loss: 0.0963 - val_accuracy: 0.9671 - val_auc: 0.9859 - lr: 1.0000e-04\n",
      "Epoch 13/100\n",
      "4530/4530 [==============================] - 4s 877us/step - loss: 0.1181 - accuracy: 0.9615 - auc: 0.9900 - val_loss: 0.0976 - val_accuracy: 0.9666 - val_auc: 0.9857 - lr: 1.0000e-04\n",
      "Epoch 14/100\n",
      "4530/4530 [==============================] - 4s 939us/step - loss: 0.1153 - accuracy: 0.9630 - auc: 0.9903 - val_loss: 0.1016 - val_accuracy: 0.9650 - val_auc: 0.9859 - lr: 1.0000e-04\n",
      "Epoch 15/100\n",
      "4511/4530 [============================>.] - ETA: 0s - loss: 0.1135 - accuracy: 0.9638 - auc: 0.9906\n",
      "Epoch 15: ReduceLROnPlateau reducing learning rate to 1.0000000474974514e-05.\n",
      "4530/4530 [==============================] - 4s 822us/step - loss: 0.1135 - accuracy: 0.9638 - auc: 0.9905 - val_loss: 0.0996 - val_accuracy: 0.9667 - val_auc: 0.9859 - lr: 1.0000e-04\n",
      "Epoch 16/100\n",
      "4489/4530 [============================>.] - ETA: 0s - loss: 0.1140 - accuracy: 0.9643 - auc: 0.9905Restoring model weights from the end of the best epoch: 6.\n",
      "4530/4530 [==============================] - 4s 814us/step - loss: 0.1140 - accuracy: 0.9642 - auc: 0.9905 - val_loss: 0.1010 - val_accuracy: 0.9666 - val_auc: 0.9856 - lr: 1.0000e-05\n",
      "Epoch 16: early stopping\n",
      "Final Loss: 0.1140, Val Loss: 0.1010, Accuracy: 0.9642, Val Accuracy: 0.9666\n",
      "634/634 [==============================] - 0s 419us/step\n",
      "Optimal Threshold: 0.40\n",
      "Confusion Matrix:\n",
      " [[17491   627]\n",
      " [  173  1993]]\n",
      "\n",
      "Classification Report:\n",
      "               precision    recall  f1-score   support\n",
      "\n",
      "         0.0       0.99      0.97      0.98     18118\n",
      "         1.0       0.76      0.92      0.83      2166\n",
      "\n",
      "    accuracy                           0.96     20284\n",
      "   macro avg       0.88      0.94      0.91     20284\n",
      "weighted avg       0.97      0.96      0.96     20284\n",
      "\n",
      "F1 Score: 0.8328\n"
     ]
    }
   ],
   "source": [
    "import tensorflow as tf\n",
    "from tensorflow.keras.models import Sequential\n",
    "from tensorflow.keras.layers import Dense, Dropout, BatchNormalization\n",
    "from tensorflow.keras.callbacks import EarlyStopping, ReduceLROnPlateau\n",
    "from tensorflow.keras.layers import LeakyReLU\n",
    "import numpy as np\n",
    "import random\n",
    "\n",
    "# Seed \n",
    "seed = 42\n",
    "np.random.seed(seed) # Seed for NumPy\n",
    "tf.random.set_seed(seed) # Seed for TensorFlow\n",
    "random.seed(seed) # Seed for Python\n",
    "\n",
    "# Modell\n",
    "model = Sequential()\n",
    "\n",
    "# Input layer\n",
    "model.add(Dense(187, activation='relu', input_shape=(X_train.shape[1],)))\n",
    "model.add(BatchNormalization()) # Batch Normalization normalizes the output of a previous activation layer by subtracting the batch mean and dividing by the batch standard deviation.\n",
    "\n",
    "# 2. Layer\n",
    "model.add(Dense(64, activation='relu'))\n",
    "model.add(BatchNormalization())\n",
    "model.add(Dropout(0.4)) # Dropout is a technique where randomly selected neurons are ignored during training. They are “dropped-out” randomly.\n",
    "# In combination with Batch Normalization, Dropout can help to avoid overfitting.\n",
    "\n",
    "# 3. Layer\n",
    "model.add(Dense(32, activation='relu'))\n",
    "model.add(BatchNormalization())\n",
    "model.add(Dropout(0.4))\n",
    "\n",
    "# 4. Layer\n",
    "model.add(Dense(8, activation='relu'))\n",
    "model.add(BatchNormalization())\n",
    "model.add(Dropout(0.4))\n",
    "\n",
    "# Output layer\n",
    "model.add(Dense(1, activation='sigmoid')) # Sigmoid activation function is used for binary classification problems.\n",
    "\n",
    "# Compile\n",
    "optimizer = tf.keras.optimizers.Adamax(learning_rate=0.001) # Adamax is a variant of Adam based on the infinity norm. It is robust and performs well in practice.\n",
    "model.compile(optimizer=optimizer, loss='binary_crossentropy', metrics=['accuracy', 'AUC']) # Binary Crossentropy is used for binary classification problems. AUC is the Area Under the ROC Curve.\n",
    "\n",
    "model.summary()\n",
    "\n",
    "# Callbacks: EarlyStopping \n",
    "early_stopping = EarlyStopping(\n",
    "    monitor='val_loss',   # value that will be monitored  \n",
    "    min_delta=0.01,       # minimium amount of change to count as an improvement    \n",
    "    patience=10,          # how many epochs to wait before stopping    \n",
    "    verbose=1,            # print additional information like the epoch number\n",
    "    mode='min',           # direction of improvement to stop training\n",
    "    restore_best_weights=True # restore the best weights when stopping\n",
    ")\n",
    "\n",
    "# ReduceLROnPlateau\n",
    "reduce_learning_rate = ReduceLROnPlateau(\n",
    "    monitor=\"val_loss\",  # value that will be monitored     \n",
    "    min_delta=0.01,      # minimium amount of change to count as an improvement     \n",
    "    patience=3,          # how many epochs to wait before stopping     \n",
    "    factor=0.1,          # factor by which the learning rate will be reduced   \n",
    "    cooldown=4,          # number of epochs to wait before resuming normal operation after lr has been reduced     \n",
    "    verbose=1            # print additional information like the epoch number     \n",
    ")\n",
    "\n",
    "# Train Modell\n",
    "history = model.fit(\n",
    "    X_train, y_train,\n",
    "    epochs=100,\n",
    "    batch_size=32,\n",
    "    validation_data=(X_test, y_test),\n",
    "    callbacks=[early_stopping, reduce_learning_rate],\n",
    "    verbose=1\n",
    ")\n",
    "\n",
    "# Train Scores\n",
    "train_loss = history.history['loss']\n",
    "val_loss = history.history['val_loss']\n",
    "train_accuracy = history.history['accuracy']\n",
    "val_accuracy = history.history['val_accuracy']\n",
    "\n",
    "print(f\"Final Loss: {train_loss[-1]:.4f}, Val Loss: {val_loss[-1]:.4f}, \"\n",
    "      f\"Accuracy: {train_accuracy[-1]:.4f}, Val Accuracy: {val_accuracy[-1]:.4f}\")\n",
    "\n",
    "# Prediction\n",
    "y_pred = model.predict(X_test)\n",
    "from sklearn.metrics import roc_curve\n",
    "fpr, tpr, thresholds = roc_curve(y_test, y_pred)\n",
    "optimal_idx = np.argmax(tpr - fpr)\n",
    "optimal_threshold = thresholds[optimal_idx]\n",
    "print(f\"Optimal Threshold: {optimal_threshold:.2f}\")\n",
    "y_pred_class = (y_pred >= optimal_threshold).astype(int)\n",
    "\n",
    "# Evaluation Test\n",
    "from sklearn.metrics import confusion_matrix, classification_report, f1_score\n",
    "\n",
    "print(\"Confusion Matrix:\\n\", confusion_matrix(y_test, y_pred_class))\n",
    "print(\"\\nClassification Report:\\n\", classification_report(y_test, y_pred_class))\n",
    "print(f\"F1 Score: {f1_score(y_test, y_pred_class):.4f}\")\n"
   ]
  },
  {
   "cell_type": "code",
   "execution_count": 10,
   "metadata": {},
   "outputs": [
    {
     "data": {
      "image/png": "[encoded data removed]",
      "text/plain": [
       "<Figure size 640x480 with 1 Axes>"
      ]
     },
     "metadata": {},
     "output_type": "display_data"
    },
    {
     "data": {
      "image/png": "[encoded data removed]",
      "text/plain": [
       "<Figure size 640x480 with 1 Axes>"
      ]
     },
     "metadata": {},
     "output_type": "display_data"
    },
    {
     "name": "stdout",
     "output_type": "stream",
     "text": [
      "634/634 [==============================] - 0s 364us/step\n",
      "Confusion Matrix:\n",
      " [[17608   510]\n",
      " [  200  1966]]\n",
      "\n",
      "Classification Report:\n",
      "               precision    recall  f1-score   support\n",
      "\n",
      "         0.0       0.99      0.97      0.98     18118\n",
      "         1.0       0.79      0.91      0.85      2166\n",
      "\n",
      "    accuracy                           0.96     20284\n",
      "   macro avg       0.89      0.94      0.91     20284\n",
      "weighted avg       0.97      0.96      0.97     20284\n",
      "\n",
      "F1 Score: 0.8470\n"
     ]
    }
   ],
   "source": [
    "import matplotlib.pyplot as plt\n",
    "from sklearn.metrics import confusion_matrix, classification_report, f1_score\n",
    "\n",
    "# Plotting the Loss\n",
    "plt.plot(train_loss, label='Train Loss')\n",
    "plt.plot(val_loss, label='Validation Loss')\n",
    "plt.title('Model Loss by Epoch')\n",
    "plt.ylabel('Loss')\n",
    "plt.xlabel('Epoch')\n",
    "plt.legend(loc='upper right')\n",
    "plt.show()\n",
    "\n",
    "# Plotting the Accuracy\n",
    "plt.plot(train_accuracy, label='Train Accuracy')\n",
    "plt.plot(val_accuracy, label='Validation Accuracy')\n",
    "plt.title('Model Accuracy by Epoch')\n",
    "plt.ylabel('Accuracy')\n",
    "plt.xlabel('Epoch')\n",
    "plt.legend(loc='upper right')\n",
    "plt.show()\n",
    "\n",
    "# Making predictions\n",
    "y_pred = model.predict(X_test)\n",
    "y_pred_class = (y_pred >= 0.5).astype(int)\n",
    "\n",
    "# Evaluating the model\n",
    "print(\"Confusion Matrix:\\n\", confusion_matrix(y_test, y_pred_class))\n",
    "print(\"\\nClassification Report:\\n\", classification_report(y_test, y_pred_class))\n",
    "print(f\"F1 Score: {f1_score(y_test, y_pred_class):.4f}\")"
   ]
  },
  {
   "cell_type": "markdown",
   "metadata": {},
   "source": [
    "# Save DNN Model"
   ]
  },
  {
   "cell_type": "code",
   "execution_count": 11,
   "metadata": {},
   "outputs": [
    {
     "name": "stdout",
     "output_type": "stream",
     "text": [
      "Model saved to ../models/model_mit_dnn.h5\n"
     ]
    }
   ],
   "source": [
    "# Save the model in HDF5 format\n",
    "model_path = OutputFiles.get('model') + '.h5'  # Append .h5 extension\n",
    "model.save(model_path)\n",
    "print(f\"Model saved to {model_path}\")\n"
   ]
  },
  {
   "cell_type": "code",
   "execution_count": 17,
   "metadata": {},
   "outputs": [
    {
     "name": "stderr",
     "output_type": "stream",
     "text": [
      "WARNING:absl:You are saving your model as an HDF5 file via `model.save()` or `keras.saving.save_model(model)`. This file format is considered legacy. We recommend using instead the native Keras format, e.g. `model.save('my_model.keras')` or `keras.saving.save_model(model, 'my_model.keras')`. \n"
     ]
    },
    {
     "name": "stdout",
     "output_type": "stream",
     "text": [
      "Model saved to ../models/model_mit_dnn.h5\n"
     ]
    }
   ],
   "source": [
    "# # Save model \n",
    "# import pickle\n",
    "# # Save the model to a file\n",
    "# with open(OutputFiles.get('model'), 'wb') as model_file:\n",
    "#     pickle.dump(model, model_file)\n",
    "\n",
    "# Save the model with TensorFlow format\n",
    "model_path = OutputFiles.get('model') + '.h5'  # Append .h5 extension\n",
    "model.save(model_path)\n",
    "print(f\"Model saved to {model_path}\")\n"
   ]
  },
  {
   "cell_type": "code",
   "execution_count": 18,
   "metadata": {},
   "outputs": [
    {
     "name": "stdout",
     "output_type": "stream",
     "text": [
      "Current time: 2024-11-13 10:16:21.534843\n"
     ]
    }
   ],
   "source": [
    "from datetime import datetime\n",
    "# Display the running time\n",
    "print(\"Current time:\", datetime.now())"
   ]
  }
 ],
 "metadata": {
  "kernelspec": {
   "display_name": "Python 3",
   "language": "python",
   "name": "python3"
  },
  "language_info": {
   "codemirror_mode": {
    "name": "ipython",
    "version": 3
   },
   "file_extension": ".py",
   "mimetype": "text/x-python",
   "name": "python",
   "nbconvert_exporter": "python",
   "pygments_lexer": "ipython3",
   "version": "3.11.5"
  }
 },
 "nbformat": 4,
 "nbformat_minor": 2
}
