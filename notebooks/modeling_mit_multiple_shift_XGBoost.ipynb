{
 "cells": [
  {
   "cell_type": "markdown",
   "metadata": {},
   "source": [
    "# MIT XGBoost model (Binary)\n",
    " As we concluded before, for MIT data, we apply the following preprocessing:   \n",
    "resampling: Oversampling\n",
    "rescaling: MinMax Scaler\n",
    " \n",
    "If you don't have the original files: run the notebook `preprocessing_mit_binary_shift_minmax_oversampling.ipynb`      \n",
    "\n",
    "Input file: (The preprocessed data)   \n",
    "mitbih_binary_train_shift_minmax_oversampling.csv\n",
    "mitbih_binary_test_shift_minmax_oversampling.csv\n",
    "\n",
    "Output:   \n",
    "model_mit_binary_shift_XGBoost.pkl  "
   ]
  },
  {
   "cell_type": "code",
   "execution_count": 1,
   "metadata": {},
   "outputs": [
    {
     "name": "stdout",
     "output_type": "stream",
     "text": [
      "Running on local environment\n",
      "Current working directory: g:\\Meine Ablage\\heartbeat-analysis-ai\\notebooks\n"
     ]
    }
   ],
   "source": [
    "import sys\n",
    "import os \n",
    "\n",
    "data_path = ''\n",
    "model_output_path = ''\n",
    "# check if the enviorment is Google Colab \n",
    "\n",
    "if 'google.colab' in sys.modules:\n",
    "    print(\"Running on Google Colab\")\n",
    "    # Install required libraries\n",
    "    !pip install scikit-learn -q\n",
    "    !pip install pandas -q\n",
    "    !pip install numpy -q\n",
    "    !pip install imbalanced-learn -q\n",
    "\n",
    "    # Mount Google Drive\n",
    "    from google.colab import drive\n",
    "    drive.mount('/content/drive')\n",
    "    # set the path where the csv file stored in your google drive. \n",
    "    data_path = '/content/drive/MyDrive/Heartbeat_Project/'\n",
    "    model_output_path = data_path\n",
    "\n",
    "else:\n",
    "    print(\"Running on local environment\")\n",
    "\n",
    "    current_path = os.getcwd()\n",
    "    print(\"Current working directory:\", current_path)\n",
    "    data_path = '../data/processed/'\n",
    "    model_output_path = '../models/'"
   ]
  },
  {
   "cell_type": "markdown",
   "metadata": {},
   "source": [
    "# Read Data"
   ]
  },
  {
   "cell_type": "code",
   "execution_count": 2,
   "metadata": {},
   "outputs": [],
   "source": [
    "import pandas as pd\n",
    "import numpy as np\n",
    "from sklearn.metrics import f1_score, confusion_matrix, classification_report, roc_curve, auc\n",
    "from sklearn.pipeline import Pipeline\n",
    "from sklearn.model_selection import StratifiedKFold, KFold, GridSearchCV\n",
    "import matplotlib.pyplot as plt\n",
    "import seaborn as sns\n",
    "from sklearn.ensemble import GradientBoostingClassifier\n",
    "from imblearn.over_sampling import RandomOverSampler\n",
    "from sklearn.pipeline import Pipeline\n",
    "from xgboost import XGBClassifier\n",
    "import numpy as np\n",
    "import seaborn as sns\n",
    "import pickle\n",
    "\n",
    "RawFiles = dict({\n",
    "    'train': data_path + 'mitbih_multipleclass_train_shift_minmax_oversampling.csv', \n",
    "    'test': data_path + 'mitbih_multipleclass_test_shift_minmax_oversampling.csv'  \n",
    "})\n",
    "\n",
    "OutputFiles = dict({\n",
    "    'model': model_output_path +  'model_mit_multiple_shift_XGBoost.pkl',\n",
    "})\n",
    "\n",
    "\n",
    "train = pd.read_csv(RawFiles.get('train'),sep=',',header=0)\n",
    "test = pd.read_csv(RawFiles.get('test'),sep=',',header=0)\n",
    "\n",
    "y_train = train['target']\n",
    "X_train = train.drop('target', axis=1)\n",
    "\n",
    "y_test = test['target']\n",
    "X_test = test.drop('target', axis=1)\n",
    "\n"
   ]
  },
  {
   "cell_type": "code",
   "execution_count": 3,
   "metadata": {},
   "outputs": [
    {
     "data": {
      "text/plain": [
       "target\n",
       "0.0    72471\n",
       "1.0    72471\n",
       "2.0    72471\n",
       "3.0    72471\n",
       "Name: count, dtype: int64"
      ]
     },
     "execution_count": 3,
     "metadata": {},
     "output_type": "execute_result"
    }
   ],
   "source": [
    "# check if target has only 2 classes\n",
    "y_train.value_counts()"
   ]
  },
  {
   "cell_type": "code",
   "execution_count": 4,
   "metadata": {},
   "outputs": [
    {
     "data": {
      "text/plain": [
       "target\n",
       "0.0    18118\n",
       "2.0     1448\n",
       "1.0      556\n",
       "3.0      162\n",
       "Name: count, dtype: int64"
      ]
     },
     "execution_count": 4,
     "metadata": {},
     "output_type": "execute_result"
    }
   ],
   "source": [
    "# check if target has only 2 classes\n",
    "y_test.value_counts()"
   ]
  },
  {
   "cell_type": "markdown",
   "metadata": {},
   "source": [
    "# XGBoost Grid Search\n",
    "\n"
   ]
  },
  {
   "cell_type": "code",
   "execution_count": 7,
   "metadata": {},
   "outputs": [
    {
     "name": "stderr",
     "output_type": "stream",
     "text": [
      "c:\\Users\\Isabell Gurstein\\anaconda3\\envs\\project_env\\Lib\\site-packages\\xgboost\\core.py:158: UserWarning: [14:20:46] WARNING: C:\\buildkite-agent\\builds\\buildkite-windows-cpu-autoscaling-group-i-0015a694724fa8361-1\\xgboost\\xgboost-ci-windows\\src\\learner.cc:740: \n",
      "Parameters: { \"use_label_encoder\" } are not used.\n",
      "\n",
      "  warnings.warn(smsg, UserWarning)\n",
      "c:\\Users\\Isabell Gurstein\\anaconda3\\envs\\project_env\\Lib\\site-packages\\xgboost\\core.py:158: UserWarning: [14:21:43] WARNING: C:\\buildkite-agent\\builds\\buildkite-windows-cpu-autoscaling-group-i-0015a694724fa8361-1\\xgboost\\xgboost-ci-windows\\src\\learner.cc:740: \n",
      "Parameters: { \"use_label_encoder\" } are not used.\n",
      "\n",
      "  warnings.warn(smsg, UserWarning)\n",
      "c:\\Users\\Isabell Gurstein\\anaconda3\\envs\\project_env\\Lib\\site-packages\\xgboost\\core.py:158: UserWarning: [14:22:37] WARNING: C:\\buildkite-agent\\builds\\buildkite-windows-cpu-autoscaling-group-i-0015a694724fa8361-1\\xgboost\\xgboost-ci-windows\\src\\learner.cc:740: \n",
      "Parameters: { \"use_label_encoder\" } are not used.\n",
      "\n",
      "  warnings.warn(smsg, UserWarning)\n",
      "c:\\Users\\Isabell Gurstein\\anaconda3\\envs\\project_env\\Lib\\site-packages\\xgboost\\core.py:158: UserWarning: [14:23:34] WARNING: C:\\buildkite-agent\\builds\\buildkite-windows-cpu-autoscaling-group-i-0015a694724fa8361-1\\xgboost\\xgboost-ci-windows\\src\\learner.cc:740: \n",
      "Parameters: { \"use_label_encoder\" } are not used.\n",
      "\n",
      "  warnings.warn(smsg, UserWarning)\n",
      "c:\\Users\\Isabell Gurstein\\anaconda3\\envs\\project_env\\Lib\\site-packages\\xgboost\\core.py:158: UserWarning: [14:24:34] WARNING: C:\\buildkite-agent\\builds\\buildkite-windows-cpu-autoscaling-group-i-0015a694724fa8361-1\\xgboost\\xgboost-ci-windows\\src\\learner.cc:740: \n",
      "Parameters: { \"use_label_encoder\" } are not used.\n",
      "\n",
      "  warnings.warn(smsg, UserWarning)\n"
     ]
    },
    {
     "name": "stdout",
     "output_type": "stream",
     "text": [
      "Best parameters: {'xgb__colsample_bytree': 0.8, 'xgb__learning_rate': 0.1, 'xgb__max_depth': 3, 'xgb__n_estimators': 100, 'xgb__subsample': 0.8}\n",
      "Average F1 Score from Nested Cross-Validation: 0.8427\n"
     ]
    },
    {
     "name": "stderr",
     "output_type": "stream",
     "text": [
      "c:\\Users\\Isabell Gurstein\\anaconda3\\envs\\project_env\\Lib\\site-packages\\xgboost\\core.py:158: UserWarning: [14:24:50] WARNING: C:\\buildkite-agent\\builds\\buildkite-windows-cpu-autoscaling-group-i-0015a694724fa8361-1\\xgboost\\xgboost-ci-windows\\src\\learner.cc:740: \n",
      "Parameters: { \"use_label_encoder\" } are not used.\n",
      "\n",
      "  warnings.warn(smsg, UserWarning)\n"
     ]
    },
    {
     "name": "stdout",
     "output_type": "stream",
     "text": [
      "F1 score: 0.8186157544059294\n"
     ]
    },
    {
     "data": {
      "image/png": "[encoded data removed]",
      "text/plain": [
       "<Figure size 1000x600 with 1 Axes>"
      ]
     },
     "metadata": {},
     "output_type": "display_data"
    },
    {
     "name": "stdout",
     "output_type": "stream",
     "text": [
      "Classification Report:\n",
      "               precision    recall  f1-score   support\n",
      "\n",
      "         0.0       0.99      0.76      0.86     18118\n",
      "         1.0       0.20      0.71      0.32       556\n",
      "         2.0       0.40      0.85      0.55      1448\n",
      "         3.0       0.11      0.88      0.20       162\n",
      "\n",
      "    accuracy                           0.77     20284\n",
      "   macro avg       0.43      0.80      0.48     20284\n",
      "weighted avg       0.92      0.77      0.82     20284\n",
      "\n"
     ]
    }
   ],
   "source": [
    "# XGBoost model with initial parameters\n",
    "xgb = XGBClassifier(eval_metric='mlogloss', use_label_encoder=False, random_state=42)\n",
    "\n",
    "# Grid search parameters for XGBoost (simplified to avoid computational overhead)\n",
    "grid_params = {\n",
    "    'xgb__n_estimators': [100],  # Number of trees in the forest\n",
    "    'xgb__max_depth': [3],  # Maximum depth of the tree\n",
    "    'xgb__learning_rate': [0.1],  # Learning rate\n",
    "    'xgb__subsample': [0.8],  # Subsample ratio of the training instances\n",
    "    'xgb__colsample_bytree': [0.8],  # Subsample ratio of columns when constructing each tree\n",
    "}\n",
    "\n",
    "# Inner and outer cross-validation (for nested cross-validation)\n",
    "inner_cv = StratifiedKFold(n_splits=5, shuffle=True, random_state=42)\n",
    "outer_cv = StratifiedKFold(n_splits=5, shuffle=True, random_state=42)\n",
    "\n",
    "# Pipeline with XGBoost\n",
    "pipeline = Pipeline([\n",
    "    ('xgb', xgb)  \n",
    "])\n",
    "\n",
    "# Nested cross-validation with grid search\n",
    "nested_scores = []\n",
    "\n",
    "for train_index, test_index in outer_cv.split(X_train, y_train):\n",
    "    X_train_inner, X_test_inner = X_train.iloc[train_index], X_train.iloc[test_index]\n",
    "    y_train_inner, y_test_inner = y_train.iloc[train_index], y_train.iloc[test_index]\n",
    "\n",
    "    # Grid search with cross-validation\n",
    "    grid_search = GridSearchCV(pipeline, grid_params, cv=inner_cv, scoring='f1_weighted', n_jobs=-1)\n",
    "    grid_search.fit(X_train_inner, y_train_inner)\n",
    "\n",
    "    # Best model from the inner grid search\n",
    "    best_model = grid_search.best_estimator_\n",
    "\n",
    "    # Model on the outer test set\n",
    "    y_pred = best_model.predict(X_test_inner)\n",
    "\n",
    "    # F1 score (macro-averaged for multi-class)\n",
    "    f1 = f1_score(y_test_inner, y_pred, average='macro')\n",
    "    nested_scores.append(f1)\n",
    "\n",
    "# Best hyperparameters\n",
    "best_params = grid_search.best_params_\n",
    "print(\"Best parameters:\", best_params)\n",
    "\n",
    "# Average F1 score from the nested cross-validation\n",
    "print(f'Average F1 Score from Nested Cross-Validation: {np.mean(nested_scores):.4f}')\n",
    "\n",
    "# Train the final model on the full training dataset\n",
    "final_model = grid_search.best_estimator_\n",
    "final_model.fit(X_train, y_train)\n",
    "\n",
    "# Prediction on the test set\n",
    "y_pred = final_model.predict(X_test)\n",
    "\n",
    "# F1 score (macro-averaged)\n",
    "f1 = f1_score(y_test, y_pred, average='weighted')\n",
    "print(\"F1 score:\", f1)\n",
    "\n",
    "# Confusion matrix\n",
    "conf_matrix = confusion_matrix(y_test, y_pred)\n",
    "\n",
    "# Plot confusion matrix\n",
    "plt.figure(figsize=(10, 6))\n",
    "sns.heatmap(conf_matrix, annot=True, fmt='d', cmap='Blues', cbar=False)\n",
    "plt.xlabel('Predicted labels')\n",
    "plt.ylabel('True labels')\n",
    "plt.title('Confusion Matrix')\n",
    "plt.show()\n",
    "\n",
    "# Classification report\n",
    "class_report = classification_report(y_test, y_pred)\n",
    "print(\"Classification Report:\\n\", class_report)\n",
    "\n"
   ]
  },
  {
   "cell_type": "code",
   "execution_count": 8,
   "metadata": {},
   "outputs": [
    {
     "name": "stdout",
     "output_type": "stream",
     "text": [
      "Best parameters: {'xgb__colsample_bytree': 0.8, 'xgb__learning_rate': 0.1, 'xgb__max_depth': 3, 'xgb__n_estimators': 100, 'xgb__subsample': 0.8}\n",
      "F1 score on the test set: 0.8186157544059294\n"
     ]
    }
   ],
   "source": [
    "# Print the summary\n",
    "print(f\"Best parameters: {best_params}\")\n",
    "print(f\"F1 score on the test set: {f1}\")"
   ]
  },
  {
   "cell_type": "markdown",
   "metadata": {},
   "source": [
    "### Save model"
   ]
  },
  {
   "cell_type": "code",
   "execution_count": 9,
   "metadata": {},
   "outputs": [],
   "source": [
    "# Save model \n",
    "import pickle\n",
    "# Save the model to a file\n",
    "with open(OutputFiles.get('model'), 'wb') as model_file:\n",
    "    pickle.dump(final_model, model_file)"
   ]
  },
  {
   "cell_type": "code",
   "execution_count": 10,
   "metadata": {},
   "outputs": [
    {
     "name": "stdout",
     "output_type": "stream",
     "text": [
      "Current time: 2024-12-10 14:25:07.809811\n"
     ]
    }
   ],
   "source": [
    "from datetime import datetime\n",
    "# Display the running time\n",
    "print(\"Current time:\", datetime.now())"
   ]
  }
 ],
 "metadata": {
  "kernelspec": {
   "display_name": "project_env",
   "language": "python",
   "name": "python3"
  },
  "language_info": {
   "codemirror_mode": {
    "name": "ipython",
    "version": 3
   },
   "file_extension": ".py",
   "mimetype": "text/x-python",
   "name": "python",
   "nbconvert_exporter": "python",
   "pygments_lexer": "ipython3",
   "version": "3.12.3"
  }
 },
 "nbformat": 4,
 "nbformat_minor": 2
}
