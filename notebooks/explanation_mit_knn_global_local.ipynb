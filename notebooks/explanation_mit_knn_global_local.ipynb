{
 "cells": [
  {
   "cell_type": "markdown",
   "metadata": {},
   "source": [
    "# Global and Local Explanation for KNN model on MIT data\n",
    "\n",
    "\n",
    "Input files:  \n",
    "Mode: `model_mit_knn.pkl` generated in notebook `modeling_mit_knn.ipynb`     \n",
    "\n",
    "Dataset: Binary classification datate genereted in notebook `preprocessing_mit_minmax_oversampling.ipynb`  \n",
    "'mitbih_train_clean_minmax_oversampling.csv'  \n",
    "'mitbih_test_clean_minmax_oversamling.csv'"
   ]
  },
  {
   "cell_type": "code",
   "execution_count": 1,
   "metadata": {},
   "outputs": [
    {
     "name": "stdout",
     "output_type": "stream",
     "text": [
      "Running on local environment\n",
      "Current working directory: /Users/pingyuan/Documents/codeself/heartbeat-analysis-ai/notebooks\n"
     ]
    }
   ],
   "source": [
    "import sys\n",
    "import os \n",
    "\n",
    "data_path = ''\n",
    "model_output_path = ''\n",
    "# check if the enviorment is Google Colab \n",
    "\n",
    "if 'google.colab' in sys.modules:\n",
    "    print(\"Running on Google Colab\")\n",
    "    # Install required libraries\n",
    "    !pip install scikit-learn -q\n",
    "    !pip install pandas -q\n",
    "    !pip install numpy -q\n",
    "    !pip install imbalanced-learn -q\n",
    "\n",
    "    # Mount Google Drive\n",
    "    from google.colab import drive\n",
    "    drive.mount('/content/drive')\n",
    "    # set the path where the csv file stored in your google drive. \n",
    "    data_path = '/content/drive/MyDrive/Heartbeat_Project/'\n",
    "    model_output_path = data_path\n",
    "\n",
    "else:\n",
    "    print(\"Running on local environment\")\n",
    "\n",
    "    current_path = os.getcwd()\n",
    "    print(\"Current working directory:\", current_path)\n",
    "    data_path = '../data/processed/'\n",
    "    model_output_path = '../models/'"
   ]
  },
  {
   "cell_type": "code",
   "execution_count": 2,
   "metadata": {},
   "outputs": [],
   "source": [
    "# Verify installation and import libraries\n",
    "import pandas as pd\n",
    "import numpy as np\n",
    "import matplotlib.pyplot as plt\n",
    "import seaborn as sns\n",
    "from sklearn.neighbors import KNeighborsClassifier\n",
    "from sklearn.metrics import f1_score, confusion_matrix, classification_report, roc_curve, auc\n",
    "from sklearn.pipeline import Pipeline\n",
    "import pickle\n",
    "from sklearn.model_selection import train_test_split\n",
    "import os\n",
    "import shap"
   ]
  },
  {
   "cell_type": "code",
   "execution_count": 3,
   "metadata": {},
   "outputs": [],
   "source": [
    "RawFiles = dict({\n",
    "    'train': data_path + 'mitbih_train_clean_minmax_oversampling.csv', \n",
    "    'test': data_path + 'mitbih_test_clean_minmax_oversampling.csv'  \n",
    "})\n",
    "\n",
    "train = pd.read_csv(RawFiles.get('train'),sep=',',header=0)\n",
    "test = pd.read_csv(RawFiles.get('test'),sep=',',header=0)\n",
    "\n",
    "y_train = train['target']\n",
    "X_train = train.drop('target', axis=1)\n",
    "\n",
    "y_test = test['target']\n",
    "X_test = test.drop('target', axis=1)"
   ]
  },
  {
   "cell_type": "markdown",
   "metadata": {},
   "source": [
    "load model"
   ]
  },
  {
   "cell_type": "code",
   "execution_count": 4,
   "metadata": {},
   "outputs": [
    {
     "name": "stdout",
     "output_type": "stream",
     "text": [
      "Model type: <class 'imblearn.pipeline.Pipeline'>\n",
      "Pipeline steps (names and objects):\n",
      "model: <class 'sklearn.neighbors._classification.KNeighborsClassifier'>\n",
      "Available steps in the pipeline: dict_keys(['model'])\n"
     ]
    }
   ],
   "source": [
    "# Define model_path based on model_output_path\n",
    "model_path = model_output_path + 'model_mit_knn.pkl'\n",
    "\n",
    "# Load the pipeline model from the pickle file\n",
    "with open(model_path, 'rb') as file:\n",
    "    pipeline_model = pickle.load(file)\n",
    "\n",
    "# Check the type of the model (pipeline)\n",
    "print(f\"Model type: {type(pipeline_model)}\")\n",
    "\n",
    "# Print the names of the pipeline steps\n",
    "print(\"Pipeline steps (names and objects):\")\n",
    "for step_name, step_obj in pipeline_model.named_steps.items():\n",
    "    print(f\"{step_name}: {type(step_obj)}\")\n",
    "\n",
    "# Alternatively, you can get the dictionary of steps directly:\n",
    "steps_dict = pipeline_model.named_steps\n",
    "print(\"Available steps in the pipeline:\", steps_dict.keys())\n"
   ]
  },
  {
   "cell_type": "markdown",
   "metadata": {},
   "source": [
    "### In the following we apply explanation strategies (Feature Importance, SHAP, LIME) on the resampled (Oversampling) and rescaled (MinMax Scaler) dataset to explain the most important features within the KNN model due to to given strategies:"
   ]
  },
  {
   "cell_type": "markdown",
   "metadata": {},
   "source": [
    "## Feature Importance"
   ]
  },
  {
   "cell_type": "markdown",
   "metadata": {},
   "source": [
    "KNN is an instance-based, non-parametric algorithm that makes predictions based on the distances to nearby points, and it doesn’t assign weights or importance values to features inherently. Hence, KNN does not have a built-in way of determining feature importance. "
   ]
  },
  {
   "cell_type": "markdown",
   "metadata": {},
   "source": [
    "## SHAP Values"
   ]
  },
  {
   "cell_type": "markdown",
   "metadata": {},
   "source": [
    "Try this piece of code if you have enough memory:"
   ]
  },
  {
   "cell_type": "code",
   "execution_count": 5,
   "metadata": {},
   "outputs": [],
   "source": [
    "# !pip install ipywidgets"
   ]
  },
  {
   "cell_type": "code",
   "execution_count": 6,
   "metadata": {},
   "outputs": [],
   "source": [
    "# import shap\n",
    "\n",
    "# # Initialize KernelExplainer using the entire training dataset\n",
    "# explainer = shap.KernelExplainer(pipeline_model.named_steps['model'].predict, X_train)\n",
    "\n",
    "# # Calculate SHAP values for the entire test set (note that this can take considerable time)\n",
    "# shap_values = explainer.shap_values(X_test)\n",
    "\n",
    "# # Convert the SHAP values to a numpy array\n",
    "# shap_values_array = np.array(shap_values)\n",
    "\n",
    "# # Calculate the mean absolute SHAP values for each feature\n",
    "# mean_shap_values = np.abs(shap_values_array).mean(axis=0)\n",
    "\n",
    "# # Create a DataFrame to store feature importances\n",
    "# shap_importance_df = pd.DataFrame({\n",
    "#     'feature': X_test.columns,\n",
    "#     'importance': mean_shap_values\n",
    "# })\n",
    "\n",
    "# # Sort the DataFrame based on feature importance\n",
    "# shap_importance_df = shap_importance_df.sort_values(by='importance', ascending=False)\n",
    "\n",
    "# # Display the top 10 most important features based on SHAP values\n",
    "# top_10_shap_features = shap_importance_df.head(10)\n",
    "# print(\"Top 10 most important features based on SHAP values:\\n\", top_10_shap_features)\n",
    "\n",
    "# # Plot the top 10 most important features based on SHAP values (bar chart)\n",
    "# plt.figure(figsize=(12, 8))\n",
    "# sns.barplot(\n",
    "#     x='importance', \n",
    "#     y='feature', \n",
    "#     data=top_10_shap_features, \n",
    "#     palette='viridis'\n",
    "# )\n",
    "# plt.title('SHAP: Top 10 Most Important Features in MIT (X_test)')\n",
    "# plt.xlabel('Mean Absolute SHAP Value')\n",
    "# plt.ylabel('Features')\n",
    "# plt.show()\n",
    "\n",
    "# # Plot a SHAP summary plot for the top 10 features (summary dot plot)\n",
    "# plt.figure(figsize=(12, 8))\n",
    "# shap.summary_plot(shap_values, X_test, plot_type=\"dot\", max_display=10, feature_names=X_test.columns)\n"
   ]
  },
  {
   "cell_type": "markdown",
   "metadata": {},
   "source": [
    "Since I get a MemoryError: Unable to allocate 274. GiB for an array with shape (2422, 15170001) and data type float64, I will use only a sample: Attention took me still 100 mins!!!\n"
   ]
  },
  {
   "cell_type": "code",
   "execution_count": null,
   "metadata": {},
   "outputs": [
    {
     "data": {
      "application/vnd.jupyter.widget-view+json": {
       "model_id": "4f02fd190c784c77ab1f084b13a6e587",
       "version_major": 2,
       "version_minor": 0
      },
      "text/plain": [
       "  0%|          | 0/50 [00:00<?, ?it/s]"
      ]
     },
     "metadata": {},
     "output_type": "display_data"
    }
   ],
   "source": [
    "# Reduce data precision to save memory\n",
    "X_train = X_train.astype(np.float32) # Reduce precision to 32-bit float to save memory\n",
    "X_test = X_test.astype(np.float32) #32-bit float to save memory because the data is not very large\n",
    "\n",
    "# Summarize the background data using k-means clustering to improve runtime efficiency\n",
    "X_train_summary = shap.kmeans(X_train, 10)  # Summarize background to 10 clusters. Clusters are used to calculate SHAP values\n",
    "\n",
    "# Initialize KernelExplainer using the summarized training dataset\n",
    "explainer = shap.KernelExplainer(pipeline_model.named_steps['model'].predict, X_train_summary)\n",
    "\n",
    "# Sample a smaller portion of X_test for SHAP calculations to handle memory limitations\n",
    "X_test_sample = X_test.sample(n=50, random_state=42)  # Reduced `n` to 50 to handle memory and runtime issues\n",
    "\n",
    "# Calculate SHAP values for the sample\n",
    "shap_values_sample = explainer.shap_values(X_test_sample)\n",
    "\n",
    "# Convert the SHAP values to a numpy array\n",
    "shap_values_array = np.array(shap_values_sample)\n",
    "\n",
    "# Calculate the mean absolute SHAP values for each feature\n",
    "mean_shap_values = np.abs(shap_values_array).mean(axis=0)\n",
    "\n",
    "# Create a DataFrame to store feature importances\n",
    "shap_importance_df = pd.DataFrame({\n",
    "    'feature': X_test.columns,\n",
    "    'importance': mean_shap_values\n",
    "})\n",
    "\n",
    "# Sort the DataFrame based on feature importance\n",
    "shap_importance_df = shap_importance_df.sort_values(by='importance', ascending=False)\n",
    "\n",
    "# Display the top 10 most important features based on SHAP values\n",
    "top_10_shap_features = shap_importance_df.head(10)\n",
    "print(\"Top 10 most important features based on SHAP values:\\n\", top_10_shap_features)\n",
    "\n",
    "# Plot the top 10 most important features based on SHAP values (bar chart)\n",
    "plt.figure(figsize=(12, 8))\n",
    "sns.barplot(\n",
    "    x='importance', \n",
    "    y='feature', \n",
    "    data=top_10_shap_features, \n",
    "    palette='viridis'\n",
    ")\n",
    "plt.title('SHAP: Top 10 Most Important Features in MIT (X_test)')\n",
    "plt.xlabel('Mean Absolute SHAP Value')\n",
    "plt.ylabel('Features')\n",
    "plt.show()\n",
    "\n",
    "# Plot a SHAP summary plot for the top 10 features (summary dot plot)\n",
    "plt.figure(figsize=(12, 8))\n",
    "shap.summary_plot(shap_values_sample, X_test_sample, plot_type=\"dot\", max_display=10, feature_names=X_test.columns)\n"
   ]
  },
  {
   "cell_type": "code",
   "execution_count": 36,
   "metadata": {},
   "outputs": [],
   "source": [
    "# Save the SHAP summary plot as an image\n",
    "output_dir = os.path.join(os.getcwd(), 'images')\n",
    "os.makedirs(output_dir, exist_ok=True)\n",
    "shap.summary_plot(shap_values_sample, X_test_sample, plot_type=\"dot\", max_display=10, feature_names=X_test.columns, show=False)\n",
    "plt.savefig(os.path.join(output_dir, 'knn_shap_summary_plot.png'))\n",
    "plt.close()"
   ]
  },
  {
   "cell_type": "markdown",
   "metadata": {},
   "source": [
    "### Interpretation\n",
    "\n",
    "Our SHAP plot highlights the top ten most important features in the KNN model based on SHAP values. The length of each bar represents the mean absolute SHAP value, indicating the importance of each feature. \n",
    "\n",
    "Key Observations:\n",
    "\n",
    "Feature c_2 has a range of SHAP values, with higher values (in red) primarily pushing predictions in a positive direction. This suggests that when c_2 has a high value, it significantly increases the model’s output.\n",
    "Feature c_0 shows a compact distribution around zero but with a concentration of high-value SHAP points (in red) around the center. This suggests that c_0 is important but might have a balanced influence, depending on its value.\n",
    "Other Features (c_3, c_77, etc.) also display some separation between high and low values, with varied SHAP impacts. However, their effects appear less pronounced compared to c_2 and c_0.\n",
    "\n",
    "Overall, the SHAP values indicate relatively low impact on the model's predictions. Even the most influential features (like c_2 and c_0) only have modest effects, as shown by the range of SHAP values clustering close to zero. This suggests a limited Predictive Power of the features."
   ]
  },
  {
   "cell_type": "markdown",
   "metadata": {},
   "source": [
    "## LIME\n"
   ]
  },
  {
   "cell_type": "code",
   "execution_count": 37,
   "metadata": {},
   "outputs": [
    {
     "name": "stdout",
     "output_type": "stream",
     "text": [
      "True Label for selected instance: 0\n",
      "Instance features:\n",
      " c_0      0.980392\n",
      "c_1      0.696078\n",
      "c_2      0.193627\n",
      "c_3      0.009804\n",
      "c_4      0.061275\n",
      "           ...   \n",
      "c_182    0.000000\n",
      "c_183    0.000000\n",
      "c_184    0.000000\n",
      "c_185    0.000000\n",
      "c_186    0.000000\n",
      "Name: 200, Length: 187, dtype: float32\n"
     ]
    },
    {
     "name": "stderr",
     "output_type": "stream",
     "text": [
      "c:\\Users\\Isabell Gurstein\\anaconda3\\envs\\project_env\\Lib\\site-packages\\lime\\discretize.py:110: FutureWarning: Series.__getitem__ treating keys as positions is deprecated. In a future version, integer keys will always be treated as labels (consistent with DataFrame behavior). To access a value by position, use `ser.iloc[pos]`\n",
      "  ret[feature] = int(self.lambdas[feature](ret[feature]))\n",
      "c:\\Users\\Isabell Gurstein\\anaconda3\\envs\\project_env\\Lib\\site-packages\\lime\\discretize.py:110: FutureWarning: Series.__setitem__ treating keys as positions is deprecated. In a future version, integer keys will always be treated as labels (consistent with DataFrame behavior). To set a value by position, use `ser.iloc[pos] = value`\n",
      "  ret[feature] = int(self.lambdas[feature](ret[feature]))\n",
      "c:\\Users\\Isabell Gurstein\\anaconda3\\envs\\project_env\\Lib\\site-packages\\lime\\lime_tabular.py:544: FutureWarning: Series.__getitem__ treating keys as positions is deprecated. In a future version, integer keys will always be treated as labels (consistent with DataFrame behavior). To access a value by position, use `ser.iloc[pos]`\n",
      "  binary_column = (inverse_column == first_row[column]).astype(int)\n",
      "c:\\Users\\Isabell Gurstein\\anaconda3\\envs\\project_env\\Lib\\site-packages\\sklearn\\base.py:493: UserWarning: X does not have valid feature names, but KNeighborsClassifier was fitted with feature names\n",
      "  warnings.warn(\n",
      "c:\\Users\\Isabell Gurstein\\anaconda3\\envs\\project_env\\Lib\\site-packages\\lime\\discretize.py:110: FutureWarning: Series.__getitem__ treating keys as positions is deprecated. In a future version, integer keys will always be treated as labels (consistent with DataFrame behavior). To access a value by position, use `ser.iloc[pos]`\n",
      "  ret[feature] = int(self.lambdas[feature](ret[feature]))\n",
      "c:\\Users\\Isabell Gurstein\\anaconda3\\envs\\project_env\\Lib\\site-packages\\lime\\discretize.py:110: FutureWarning: Series.__setitem__ treating keys as positions is deprecated. In a future version, integer keys will always be treated as labels (consistent with DataFrame behavior). To set a value by position, use `ser.iloc[pos] = value`\n",
      "  ret[feature] = int(self.lambdas[feature](ret[feature]))\n",
      "c:\\Users\\Isabell Gurstein\\anaconda3\\envs\\project_env\\Lib\\site-packages\\lime\\lime_tabular.py:427: FutureWarning: Series.__getitem__ treating keys as positions is deprecated. In a future version, integer keys will always be treated as labels (consistent with DataFrame behavior). To access a value by position, use `ser.iloc[pos]`\n",
      "  discretized_instance[f])]\n",
      "C:\\Users\\Isabell Gurstein\\AppData\\Local\\Temp\\ipykernel_35052\\1911715412.py:41: FutureWarning: \n",
      "\n",
      "Passing `palette` without assigning `hue` is deprecated and will be removed in v0.14.0. Assign the `y` variable to `hue` and set `legend=False` for the same effect.\n",
      "\n",
      "  sns.barplot(\n"
     ]
    },
    {
     "data": {
      "image/png": "[encoded data removed]",
      "text/plain": [
       "<Figure size 1000x600 with 1 Axes>"
      ]
     },
     "metadata": {},
     "output_type": "display_data"
    }
   ],
   "source": [
    "# load lime\n",
    "import lime\n",
    "import lime.lime_tabular\n",
    "\n",
    "\n",
    "# Create a Lime Explainer object\n",
    "explainer = lime.lime_tabular.LimeTabularExplainer(\n",
    "    training_data=np.array(X_train),  # Features from the training data\n",
    "    training_labels=np.array(y_train),  # Target labels for training data\n",
    "    mode=\"classification\",  # Set to 'classification' or 'regression' based on your task\n",
    "    feature_names=X_train.columns,  # Feature names\n",
    "    class_names=['Class 0', 'Class 1'],  # Class names for binary classification (modify if more classes)\n",
    "    discretize_continuous=True  # Discretizes continuous features for better explanation\n",
    ")\n",
    "\n",
    "# Select a random instance from the test set\n",
    "idx = 200  ################################  You can change this index to select a different instance! ##############################\n",
    "instance = X_test.iloc[idx]  # The input instance\n",
    "\n",
    "# Get the true label for the selected instance\n",
    "true_label = y_test.iloc[idx]\n",
    "\n",
    "print(\"True Label for selected instance:\", true_label)\n",
    "print(\"Instance features:\\n\", instance)\n",
    "\n",
    "# Explain the instance using the LIME explainer\n",
    "exp = explainer.explain_instance(\n",
    "    data_row=instance,  # Instance to explain\n",
    "    predict_fn=pipeline_model.predict_proba,  # Prediction function from the model\n",
    "    num_features=10  # Number of features to include in the explanation\n",
    ")\n",
    "\n",
    "# Extract feature contributions from the explanation object\n",
    "feature_importance = exp.as_list()  # Returns a list of (feature, contribution) tuples\n",
    "\n",
    "# Convert the feature importance to a DataFrame for easy visualization\n",
    "lime_df = pd.DataFrame(feature_importance, columns=['Feature', 'Contribution'])\n",
    "\n",
    "# Plot the LIME explanation using Seaborn\n",
    "plt.figure(figsize=(10, 6))\n",
    "sns.barplot(\n",
    "    x='Contribution', \n",
    "    y='Feature', \n",
    "    data=lime_df, \n",
    "    palette='viridis', \n",
    "    orient='h'\n",
    ")\n",
    "plt.title(f'LIME Explanation for Instance {idx} (True Label: {true_label})')\n",
    "plt.xlabel('Feature Contribution')\n",
    "plt.ylabel('Feature')\n",
    "plt.grid(axis='x', linestyle='--', alpha=0.6)\n",
    "plt.show()"
   ]
  },
  {
   "cell_type": "markdown",
   "metadata": {},
   "source": [
    "### Interpretation\n",
    "\n",
    "The LIME explanation plot illustrates the feature contributions for a specific instance (Instance 200) in the scaled and sampled MIT dataset with a binary dummy variable:\n",
    "\n",
    "c_112 and c_126 appear to have the largest positive impact on the prediction, with feature contributions close to 0.04.\n",
    "On the negative side, c_127 has the largest impact, with a feature contribution slightly above -0.06.\n",
    "\n",
    "Overall Impact:\n",
    "\n",
    "Similar to the SHAP analysis, the contributions here are relatively small in magnitude. This again suggests limited impact from individual features on the prediction outcome, which may indicate a model that is balanced or one that doesn’t heavily rely on any single feature for this instance.\n",
    "\n"
   ]
  },
  {
   "cell_type": "code",
   "execution_count": 1,
   "metadata": {},
   "outputs": [
    {
     "name": "stdout",
     "output_type": "stream",
     "text": [
      "Current time: 2024-11-05 10:59:02.611675\n"
     ]
    }
   ],
   "source": [
    "from datetime import datetime\n",
    "# Display the running time\n",
    "print(\"Current time:\", datetime.now())"
   ]
  }
 ],
 "metadata": {
  "kernelspec": {
   "display_name": "Python 3",
   "language": "python",
   "name": "python3"
  },
  "language_info": {
   "codemirror_mode": {
    "name": "ipython",
    "version": 3
   },
   "file_extension": ".py",
   "mimetype": "text/x-python",
   "name": "python",
   "nbconvert_exporter": "python",
   "pygments_lexer": "ipython3",
   "version": "3.11.5"
  }
 },
 "nbformat": 4,
 "nbformat_minor": 2
}
