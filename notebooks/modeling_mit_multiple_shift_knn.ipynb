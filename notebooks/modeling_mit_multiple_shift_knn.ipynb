{
 "cells": [
  {
   "cell_type": "markdown",
   "metadata": {},
   "source": [
    "# KNN Model (mutiple class) for MIT data \n",
    "As we concluded before, for MIT data, we apply the following preprocessing:   \n",
    "resampling: Oversampling\n",
    "rescaling: MinMax Scaler\n",
    "\n",
    "If you don't have the original files: run the notebook `preprocessing_mit_multipleclass_shift_minmax_oversampling.ipynb`       \n",
    "\n",
    "Input file: (The preprocessed data)   \n",
    "mitbih_multipleclass_train_shift_minmax_oversampling.csv\n",
    "mitbih_multipleclass_test_shift_minmax_oversampling.csv\n",
    "\n",
    "Output: KNN model trained  \n",
    "model_mit_multiple_shift_knn.pkl"
   ]
  },
  {
   "cell_type": "code",
   "execution_count": 1,
   "metadata": {},
   "outputs": [
    {
     "name": "stdout",
     "output_type": "stream",
     "text": [
      "Running on local environment\n",
      "Current working directory: c:\\Users\\igurs\\Documents\\GitHub\\heartbeat-analysis-ai\\notebooks\n"
     ]
    }
   ],
   "source": [
    "import sys\n",
    "import os \n",
    "\n",
    "data_path = ''\n",
    "model_output_path = ''\n",
    "# check if the enviorment is Google Colab \n",
    "\n",
    "if 'google.colab' in sys.modules:\n",
    "    print(\"Running on Google Colab\")\n",
    "    # Install required libraries\n",
    "    !pip install scikit-learn -q\n",
    "    !pip install pandas -q\n",
    "    !pip install numpy -q\n",
    "    !pip install imbalanced-learn -q\n",
    "\n",
    "    # Mount Google Drive\n",
    "    from google.colab import drive\n",
    "    drive.mount('/content/drive')\n",
    "    # set the path where the csv file stored in your google drive. \n",
    "    data_path = '/content/drive/MyDrive/Heartbeat_Project/'\n",
    "    model_output_path = data_path\n",
    "\n",
    "else:\n",
    "    print(\"Running on local environment\")\n",
    "\n",
    "    current_path = os.getcwd()\n",
    "    print(\"Current working directory:\", current_path)\n",
    "    data_path = '../data/processed/'\n",
    "    model_output_path = '../models/'"
   ]
  },
  {
   "cell_type": "markdown",
   "metadata": {},
   "source": [
    "## Read data \n"
   ]
  },
  {
   "cell_type": "code",
   "execution_count": 2,
   "metadata": {},
   "outputs": [],
   "source": [
    "import pandas as pd\n",
    "import numpy as np\n",
    "from sklearn.tree import DecisionTreeClassifier\n",
    "from sklearn.metrics import f1_score, confusion_matrix, classification_report, roc_curve, auc\n",
    "from xgboost import XGBClassifier\n",
    "from sklearn.pipeline import Pipeline\n",
    "from sklearn.model_selection import StratifiedKFold, KFold, GridSearchCV\n",
    "from sklearn.neighbors import KNeighborsClassifier\n",
    "from imblearn.pipeline import Pipeline as ImbPipeline  # Use ImbPipeline for oversampling\n",
    "import matplotlib.pyplot as plt\n",
    "import seaborn as sns\n",
    "\n",
    "\n",
    "RawFiles = dict({\n",
    "    'train': data_path + 'mitbih_multipleclass_train_shift_minmax_oversampling.csv', \n",
    "    'test': data_path + 'mitbih_multipleclass_test_shift_minmax_oversampling.csv'  \n",
    "})\n",
    "\n",
    "OutputFiles = dict({\n",
    "    'model': model_output_path +  'model_mit_multiple_shift_knn.pkl',\n",
    "})\n",
    "\n",
    "train = pd.read_csv(RawFiles.get('train'),sep=',',header=0)\n",
    "test = pd.read_csv(RawFiles.get('test'),sep=',',header=0)\n",
    "\n",
    "y_train = train['target']\n",
    "X_train = train.drop('target', axis=1)\n",
    "\n",
    "y_test = test['target']\n",
    "X_test = test.drop('target', axis=1)\n",
    "\n"
   ]
  },
  {
   "cell_type": "markdown",
   "metadata": {},
   "source": [
    "# Grid Search for optimized KNN with MinMax Scaler"
   ]
  },
  {
   "cell_type": "code",
   "execution_count": 3,
   "metadata": {},
   "outputs": [
    {
     "name": "stdout",
     "output_type": "stream",
     "text": [
      "Fitting 3 folds for each of 3 candidates, totalling 9 fits\n",
      "KNN Best parameters: {'model__algorithm': 'auto', 'model__n_neighbors': 5, 'model__weights': 'distance'}\n",
      "KNN Best score: 0.9907560068900761\n",
      "KNN F1 score: 0.962801801801436\n"
     ]
    },
    {
     "data": {
      "image/png": "[encoded data removed]",
      "text/plain": [
       "<Figure size 1000x600 with 1 Axes>"
      ]
     },
     "metadata": {},
     "output_type": "display_data"
    },
    {
     "name": "stdout",
     "output_type": "stream",
     "text": [
      "KNN Classification Report:\n",
      "               precision    recall  f1-score   support\n",
      "\n",
      "         0.0       0.99      0.97      0.98     18118\n",
      "         1.0       0.61      0.71      0.65       556\n",
      "         2.0       0.88      0.92      0.90      1448\n",
      "         3.0       0.52      0.70      0.60       162\n",
      "\n",
      "    accuracy                           0.96     20284\n",
      "   macro avg       0.75      0.83      0.78     20284\n",
      "weighted avg       0.96      0.96      0.96     20284\n",
      "\n"
     ]
    }
   ],
   "source": [
    "# Define KNN model\n",
    "knn_model = KNeighborsClassifier()\n",
    "\n",
    "# Grid parameters for KNN\n",
    "knn_grid_params = {\n",
    "    'model__n_neighbors': [5, 7, 10],  # Number of neighbors to use for kneighbors queries\n",
    "    'model__weights': ['distance'],  # Weight function used in prediction\n",
    "    'model__algorithm': ['auto'] # Algorithm to compute nearest neighbors\n",
    "}\n",
    "\n",
    "# Create a pipeline that includes scaling, oversampling, and KNN\n",
    "pipeline = ImbPipeline([\n",
    "    ('model', knn_model)  # KNN model\n",
    "])\n",
    "\n",
    "# Initialize GridSearchCV\n",
    "knn_grid_search = GridSearchCV(pipeline, knn_grid_params, cv=3, n_jobs=-1, verbose=1, scoring='f1_macro')\n",
    "\n",
    "try:\n",
    "    # Fit the KNN grid search on the training data\n",
    "    knn_grid_search.fit(X_train, y_train)\n",
    "    \n",
    "    # Get the best parameters and model for KNN\n",
    "    knn_best_params = knn_grid_search.best_params_\n",
    "    print(\"KNN Best parameters:\", knn_best_params)\n",
    "\n",
    "    knn_best_score = knn_grid_search.best_score_\n",
    "    print(\"KNN Best score:\", knn_best_score)\n",
    "\n",
    "    knn_best_model = knn_grid_search.best_estimator_\n",
    "\n",
    "    # Predict and evaluate KNN on test data using the pipeline\n",
    "    y_pred_knn = knn_best_model.predict(X_test)\n",
    "    f1_knn = f1_score(y_test, y_pred_knn, average='weighted')  # Calculate F1 score (weighted)\n",
    "    print(\"KNN F1 score:\", f1_knn)\n",
    "\n",
    "    # Generate and plot confusion matrix\n",
    "    conf_matrix_knn = confusion_matrix(y_test, y_pred_knn)\n",
    "    plt.figure(figsize=(10, 6))\n",
    "    sns.heatmap(conf_matrix_knn, annot=True, fmt='d', cmap='Blues', cbar=False)\n",
    "    plt.xlabel('Predicted labels')\n",
    "    plt.ylabel('True labels')\n",
    "    plt.title('KNN Confusion Matrix')\n",
    "    plt.show()\n",
    "\n",
    "    # Generate and print classification report\n",
    "    class_report_knn = classification_report(y_test, y_pred_knn)\n",
    "    print(\"KNN Classification Report:\\n\", class_report_knn)\n",
    "\n",
    "except ValueError as e:\n",
    "    print(f\"Error during GridSearchCV: {e}\")\n",
    "\n"
   ]
  },
  {
   "cell_type": "markdown",
   "metadata": {},
   "source": [
    "# Save Best KNN Model"
   ]
  },
  {
   "cell_type": "code",
   "execution_count": 4,
   "metadata": {},
   "outputs": [],
   "source": [
    "# Save model \n",
    "import pickle\n",
    "# Save the model to a file\n",
    "with open(OutputFiles.get('model'), 'wb') as model_file: #wb means writing the file in binary mode\n",
    "    pickle.dump(knn_best_model, model_file)"
   ]
  },
  {
   "cell_type": "code",
   "execution_count": 5,
   "metadata": {},
   "outputs": [
    {
     "name": "stdout",
     "output_type": "stream",
     "text": [
      "Current time: 2024-12-12 15:55:23.476701\n"
     ]
    }
   ],
   "source": [
    "from datetime import datetime\n",
    "# Display the running time\n",
    "print(\"Current time:\", datetime.now())"
   ]
  }
 ],
 "metadata": {
  "kernelspec": {
   "display_name": "project_env",
   "language": "python",
   "name": "python3"
  },
  "language_info": {
   "codemirror_mode": {
    "name": "ipython",
    "version": 3
   },
   "file_extension": ".py",
   "mimetype": "text/x-python",
   "name": "python",
   "nbconvert_exporter": "python",
   "pygments_lexer": "ipython3",
   "version": "3.12.4"
  }
 },
 "nbformat": 4,
 "nbformat_minor": 2
}
