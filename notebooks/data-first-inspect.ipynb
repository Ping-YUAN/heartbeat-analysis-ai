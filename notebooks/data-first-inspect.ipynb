{
  "cells": [
    {
      "cell_type": "code",
      "execution_count": null,
      "metadata": {
        "id": "m_FSL5cYnEQI"
      },
      "outputs": [],
      "source": [
        "import pandas as pd\n",
        "import numpy as np\n",
        "import matplotlib.pyplot as plt\n",
        "from pandas.plotting import scatter_matrix\n",
        "\n",
        "Path = dict({\n",
        "    'mitbih_test': '../data/raw/mitbih_test.csv',\n",
        "    'mitbih_train': '../data/raw/mitbih_train.csv',\n",
        "})"
      ]
    },
    {
      "cell_type": "code",
      "execution_count": null,
      "metadata": {
        "id": "hZhtCq2NnEQJ"
      },
      "outputs": [],
      "source": [
        "def addColumnsToDataframe(df):\n",
        "    \"\"\"\n",
        "    As the dataset is composed with 188 columns with the 188th columns as the category values,\n",
        "    so we give the last column the name 'target', others named with 'c_182'\n",
        "    \"\"\"\n",
        "    num_columns= df.shape[1]\n",
        "    feature_col_name = ['c_' + str(i) for i in range(0, num_columns - 1)]\n",
        "    df_columns = feature_col_name + ['target']\n",
        "    df.columns = df_columns\n",
        "    return df\n",
        "\n",
        "def convertColumnAsInt(df, column):\n",
        "    \"\"\"\n",
        "    As the category value is in float type. We want to get the int to identify the category.\n",
        "    \"\"\"\n",
        "    df[column] = df[column].astype(int)\n",
        "    return df\n",
        "\n",
        "def getBarChartFromCategoryValueCounts(category_value_counts):\n",
        "    \"\"\"\n",
        "    We call the plot over the pandas series object to plot the category count values\n",
        "    \"\"\"\n",
        "    plt.figure(figsize=(10, 6))\n",
        "    bar_chart = category_value_counts.plot(kind='bar')\n",
        "    plt.xlabel('Categories')\n",
        "    plt.ylabel('Count')\n",
        "    plt.legend()\n",
        "    plt.grid(False)\n",
        "    plt.xticks(rotation=360)\n",
        "    for i in bar_chart.containers:\n",
        "        bar_chart.bar_label(i, label_type='edge')\n",
        "    plt.show()\n",
        "\n",
        "\n",
        "def showTop10DataInChart(df):\n",
        "    plt.figure(figsize=(10, 6))\n",
        "    xDataAxis = list(range(0, df.shape[1]))\n",
        "    yDataRows = list(df.values[1: 10])\n",
        "    for y in yDataRows:\n",
        "        plt.plot(xDataAxis, y)\n",
        "    plt.show()"
      ]
    },
    {
      "cell_type": "code",
      "execution_count": null,
      "metadata": {},
      "outputs": [],
      "source": [
        "mitbih_train = pd.read_csv(Path.get('mitbih_train'), header=None ) \n",
        "mitbih_train_with_columns = addColumnsToDataframe(mitbih_train) # add columns to the dataframe\n",
        "mitbih_train_with_columns = convertColumnAsInt(mitbih_train_with_columns, 'target') # convert the target column to int"
      ]
    },
    {
      "cell_type": "code",
      "execution_count": null,
      "metadata": {},
      "outputs": [],
      "source": [
        "mitbih_test = pd.read_csv(Path.get('mitbih_test'), header=None )\n",
        "mitbih_test_with_columns = addColumnsToDataframe(mitbih_test)\n",
        "mitbih_test_with_columns = convertColumnAsInt(mitbih_test_with_columns, 'target')"
      ]
    },
    {
      "cell_type": "code",
      "execution_count": null,
      "metadata": {},
      "outputs": [],
      "source": [
        "#train:\n",
        "print(mitbih_train.shape)\n",
        "print(\"The train data has 87554 and 188 columns.\")\n",
        "\n",
        "#test:\n",
        "print(mitbih_test.shape)\n",
        "print(\"The test data has 21891 and 188 columns.\")"
      ]
    },
    {
      "cell_type": "code",
      "execution_count": null,
      "metadata": {},
      "outputs": [],
      "source": [
        "print(mitbih_train[\"target\"])\n",
        "print(mitbih_test[\"target\"])"
      ]
    },
    {
      "cell_type": "code",
      "execution_count": null,
      "metadata": {},
      "outputs": [],
      "source": [
        "print(mitbih_train.dtypes)\n",
        "print(mitbih_test.dtypes)\n",
        "print(\"The features are numeric. All columns have the type float64, while the target column is int32.\")"
      ]
    },
    {
      "cell_type": "code",
      "execution_count": null,
      "metadata": {},
      "outputs": [],
      "source": [
        "print(mitbih_test.info(show_counts=True), end=\"\\n\\n\")\n",
        "print(\"Size of the DataFrame\", mitbih_test.shape, end='\\n\\n')\n",
        "\n",
        "print(mitbih_train.info(show_counts=True), end=\"\\n\\n\")\n",
        "print(\"Size of the DataFrame\", mitbih_train.shape, end='\\n\\n')\n"
      ]
    },
    {
      "cell_type": "code",
      "execution_count": null,
      "metadata": {},
      "outputs": [],
      "source": [
        "nb_rows_duplicated = mitbih_train.duplicated().sum()\n",
        "print(\"Number of rows duplicated :\", nb_rows_duplicated)\n",
        "\n",
        "nb_rows_duplicated = mitbih_test.duplicated().sum()\n",
        "print(\"Number of rows duplicated :\", nb_rows_duplicated)"
      ]
    },
    {
      "cell_type": "code",
      "execution_count": null,
      "metadata": {},
      "outputs": [],
      "source": [
        "print(\"Missing values in train:\", mitbih_train.isnull().sum())\n",
        "print(\"Missing values in test:\", mitbih_test.isnull().sum())\n",
        "print(\"The data has no missing values.\")"
      ]
    },
    {
      "cell_type": "code",
      "execution_count": null,
      "metadata": {},
      "outputs": [],
      "source": [
        "mitbih_train.head()"
      ]
    },
    {
      "cell_type": "code",
      "execution_count": null,
      "metadata": {},
      "outputs": [],
      "source": [
        "mitbih_test.head()"
      ]
    },
    {
      "cell_type": "markdown",
      "metadata": {},
      "source": [
        "Visualize Target "
      ]
    },
    {
      "cell_type": "code",
      "execution_count": null,
      "metadata": {},
      "outputs": [],
      "source": [
        "# Define mapping dictionary\n",
        "class_mapping = {\n",
        "    0: 'Normal beat',\n",
        "    1: 'Supraventricular premature beat',\n",
        "    2: 'Premature ventricular contraction',\n",
        "    3: 'Fusion of ventricular and normal beat',\n",
        "    4: 'Unclassifiable beat'\n",
        "}\n",
        "\n",
        "# Define custom colors for each category\n",
        "color_mapping = {\n",
        "    0: 'green',    # Normal beat\n",
        "    1: 'yellow',   # Supraventricular premature beat\n",
        "    2: 'red',      # Premature ventricular contraction\n",
        "    3: 'orange',   # Fusion of ventricular and normal beat\n",
        "    4: 'gray'      # Unclassifiable beat\n",
        "}\n",
        "\n",
        "classes_to_plot = [0, 1, 2, 3, 4]\n",
        "\n",
        "# Calculate value counts based on mapped class names\n",
        "value_counts_series_train = mitbih_train['target'].map(class_mapping).value_counts()\n",
        "# Calculate value counts based on mapped class names\n",
        "value_counts_series_test = mitbih_test['target'].map(class_mapping).value_counts()"
      ]
    },
    {
      "cell_type": "code",
      "execution_count": null,
      "metadata": {},
      "outputs": [],
      "source": [
        "print(\"Training Dataset Class Distribution:\")\n",
        "print(value_counts_series_train)\n",
        "\n",
        "print(\"\\nTesting Dataset Class Distribution:\")\n",
        "print(value_counts_series_test)\n"
      ]
    },
    {
      "cell_type": "markdown",
      "metadata": {},
      "source": [
        "Barplots"
      ]
    },
    {
      "cell_type": "code",
      "execution_count": null,
      "metadata": {},
      "outputs": [],
      "source": [
        "# train data\n",
        "\n",
        "plt.figure(figsize=(10, 6)) # Set the figure size\n",
        "bar_chart = value_counts_series_train.plot(kind='bar', color=color_mapping.values()) # Create a bar chart for the value counts of the target column in the training dataset\n",
        "plt.xlabel('Categories')\n",
        "plt.ylabel('Count')\n",
        "plt.title('Distribution of Target Categories (Training Dataset)')\n",
        "plt.xticks(rotation=45, ha='right') # Rotate the x-axis labels\n",
        "\n",
        "# Add labels to the bars\n",
        "for container in bar_chart.containers: # Iterate over the bar containers\n",
        "    plt.bar_label(container, label_type='edge') # Add labels to the bars\n",
        "\n",
        "plt.tight_layout()\n",
        "plt.show()\n",
        "\n",
        "# test data \n",
        "plt.figure(figsize=(10, 6))\n",
        "bar_chart = value_counts_series_test.plot(kind='bar', color=color_mapping.values())\n",
        "plt.xlabel('Categories')\n",
        "plt.ylabel('Count')\n",
        "plt.title('Distribution of Target Categories (Testing Dataset)')\n",
        "plt.xticks(rotation=45, ha='right')\n",
        "\n",
        "# Add labels to the bars\n",
        "for container in bar_chart.containers:\n",
        "    plt.bar_label(container, label_type='edge')\n",
        "\n",
        "plt.tight_layout()\n",
        "plt.show()"
      ]
    },
    {
      "cell_type": "markdown",
      "metadata": {},
      "source": [
        "Plot of each class once"
      ]
    },
    {
      "cell_type": "code",
      "execution_count": null,
      "metadata": {},
      "outputs": [],
      "source": [
        "# Function to plot overlay of ECG signals from both datasets for a single class\n",
        "def plot_overlay_ecg_signals(df, label, color, dataset_label): # Define a function to plot overlay of ECG signals for a single class from both datasets\n",
        "    \"\"\"\n",
        "    Plot overlay of ECG signals for a single class from both datasets.\n",
        "\n",
        "    Parameters:\n",
        "    df (DataFrame): DataFrame containing ECG signals and target labels\n",
        "    label (str or int): Class label to plot\n",
        "    color (str): Color for the plot\n",
        "    dataset_label (str): Label for the dataset (e.g., 'Training', 'Testing')\n",
        "    \"\"\"\n",
        "\n",
        "    # Map the descriptive label to the corresponding class label\n",
        "    if isinstance(label, str):\n",
        "        class_label = [k for k, v in class_mapping.items() if v == label][0] # Get the class label for the specified class name\n",
        "    else:\n",
        "        class_label = label # Use the specified class label\n",
        "    \n",
        "    # Extract data rows for the specified class label\n",
        "    class_data = df[df['target'] == class_label]\n",
        "\n",
        "    # Check if there is any data for the specified class label\n",
        "    if class_data.empty:\n",
        "        print(f\"No data found for class {class_mapping[class_label]}\")\n",
        "        return\n",
        "    \n",
        "    # Extract a sample data row (first row) for the specified class label\n",
        "    sample_data = class_data.iloc[0]\n",
        "\n",
        "    # Plot the sample ECG signal, excluding the 'target' column\n",
        "    plt.plot(sample_data[:-1], label=f'{dataset_label}: {class_mapping[class_label]}', color=color)\n",
        "\n",
        "    plt.title(f\"Overlay of ECG Signals - {dataset_label}\")\n",
        "    plt.ylabel('Amplitude')\n",
        "    plt.grid(True)\n",
        "    plt.xticks([])  # Remove x-axis ticks and labels\n",
        "    plt.legend()\n",
        "\n",
        "# List of classes to plot\n",
        "classes_to_plot = ['Normal beat', 'Premature ventricular contraction', \n",
        "                   'Supraventricular premature beat', 'Fusion of ventricular and normal beat','Unclassifiable beat']\n",
        "\n",
        "# Colors for each class\n",
        "colors = ['green', 'orange', 'yellow', 'red', 'gray']\n",
        "\n",
        "# Plotting overlay for each class in both datasets\n",
        "plt.figure(figsize=(12, 8))\n",
        "\n",
        "# Plotting for training dataset\n",
        "for label, color in zip(classes_to_plot, colors):\n",
        "    plot_overlay_ecg_signals(mitbih_train, label, color, 'Training')\n",
        "\n",
        "plt.tight_layout()\n",
        "plt.show()\n",
        "\n",
        "plt.figure(figsize=(12, 8))\n",
        "\n",
        "# Plotting for testing dataset\n",
        "for label, color in zip(classes_to_plot, colors):\n",
        "    plot_overlay_ecg_signals(mitbih_test, label, color, 'Testing')\n",
        "\n",
        "plt.tight_layout()\n",
        "plt.show()"
      ]
    },
    {
      "cell_type": "markdown",
      "metadata": {},
      "source": [
        "Correlations between all ECG Signals by Class"
      ]
    },
    {
      "cell_type": "code",
      "execution_count": null,
      "metadata": {},
      "outputs": [],
      "source": [
        "# Train data\n",
        "def plotCorrelationMatrixByClass(mitbih_train, target, class_labels=None, class_colors=None, graphWidth=12, tick_frequency=20):\n",
        "    \"\"\"\n",
        "    This function plots correlation matrices for each class in the target variable.\n",
        "    The function takes the following arguments:\n",
        "    - mitbih_train: The training dataset DataFrame\n",
        "    - target: The name of the target variable column\n",
        "    - class_labels: A dictionary mapping class labels to descriptive names\n",
        "    - class_colors: A dictionary mapping class labels to colors\n",
        "    - graphWidth: The width of the correlation matrix plot\n",
        "    - tick_frequency: The frequency of x and y tick labels\n",
        "    \"\"\"\n",
        "    # Exclude the target variable from the DataFrame\n",
        "    df_without_target = mitbih_train.drop(columns=[target])\n",
        "    \n",
        "    # Get unique classes of the target variable\n",
        "    unique_classes = mitbih_train[target].unique()\n",
        "    \n",
        "    # Iterate through unique classes and plot correlation matrix for each\n",
        "    for cls in unique_classes:\n",
        "        # Subset the data for the current class\n",
        "        df_class = df_without_target[mitbih_train[target] == cls]\n",
        "        \n",
        "        # Calculate correlation matrix\n",
        "        corr = df_class.corr()\n",
        "        \n",
        "        # Plotting settings with increased figure size\n",
        "        plt.figure(figsize=(graphWidth, graphWidth), dpi=80, facecolor='w', edgecolor='k')\n",
        "        corrMat = plt.matshow(corr, fignum=1)\n",
        "        \n",
        "        # Set x and y tick labels every tick_frequency-th label\n",
        "        plt.xticks(range(0, len(corr.columns), tick_frequency), corr.columns[::tick_frequency], rotation=90)\n",
        "        plt.yticks(range(0, len(corr.columns), tick_frequency), corr.columns[::tick_frequency])\n",
        "        \n",
        "        plt.gca().xaxis.tick_bottom()\n",
        "        plt.colorbar(corrMat)\n",
        "        \n",
        "        # Set title using class_labels dictionary\n",
        "        if cls in class_labels:\n",
        "            plt.title(f'Correlation Matrix for Target Class: {class_labels[cls]}', fontsize=15)\n",
        "        \n",
        "        # Show plot\n",
        "        plt.show()\n",
        "\n",
        "# Define class labels and colors\n",
        "plotCorrelationMatrixByClass(mitbih_train, target='target', class_labels=class_mapping, class_colors=color_mapping, graphWidth=15, tick_frequency=20)\n",
        "\n"
      ]
    }
  ],
  "metadata": {
    "colab": {
      "provenance": []
    },
    "kernelspec": {
      "display_name": "Python 3",
      "language": "python",
      "name": "python3"
    },
    "language_info": {
      "codemirror_mode": {
        "name": "ipython",
        "version": 3
      },
      "file_extension": ".py",
      "mimetype": "text/x-python",
      "name": "python",
      "nbconvert_exporter": "python",
      "pygments_lexer": "ipython3",
      "version": "3.12.3"
    }
  },
  "nbformat": 4,
  "nbformat_minor": 0
}
