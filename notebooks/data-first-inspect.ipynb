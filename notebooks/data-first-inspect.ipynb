{
  "cells": [
    {
      "cell_type": "code",
      "execution_count": null,
      "metadata": {
        "id": "m_FSL5cYnEQI"
      },
      "outputs": [],
      "source": [
        "import pandas as pd\n",
        "import numpy as np\n",
        "import matplotlib.pyplot as plt\n",
        "\n",
        "Path = dict({\n",
        "    'ptbdb_normal': '../data/raw/ptbdb_normal.csv',\n",
        "    'ptbdb_abnormal': '../data/raw/ptbdb_abnormal.csv',\n",
        "    'mitbih_test': '../data/raw/mitbih_test.csv',\n",
        "    'mitbih_train': '../data/raw/mitbih_train.csv',\n",
        "})\n",
        "\n"
      ]
    },
    {
      "cell_type": "code",
      "execution_count": null,
      "metadata": {
        "id": "hZhtCq2NnEQJ"
      },
      "outputs": [],
      "source": [
        "\n",
        "def addColumnsToDataframe(df):\n",
        "    \"\"\"\n",
        "    As the dataset is composed with 188 columns with the 188th columns as the category values,\n",
        "    so we give the last column the name 'target', others named with 'c_182'\n",
        "    \"\"\"\n",
        "    num_columns= df.shape[1]\n",
        "    feature_col_name = ['c_' + str(i) for i in range(0, num_columns - 1)]\n",
        "    df_columns = feature_col_name + ['target']\n",
        "    df.columns = df_columns\n",
        "    return df\n",
        "\n",
        "def convertColumnAsInt(df, column):\n",
        "    \"\"\"\n",
        "    As the category value is in float type. We want to get the int to identify the category.\n",
        "    \"\"\"\n",
        "    df[column] = df[column].astype(int)\n",
        "    return df\n",
        "\n",
        "def getBarChartFromCategoryValueCounts(category_value_counts):\n",
        "    \"\"\"\n",
        "    We call the plot over the pandas series object to plot the category count values\n",
        "    \"\"\"\n",
        "    plt.figure(figsize=(10, 6))\n",
        "    bar_chart = category_value_counts.plot(kind='bar')\n",
        "    plt.xlabel('Categories')\n",
        "    plt.ylabel('Count')\n",
        "    plt.legend()\n",
        "    plt.grid(False)\n",
        "    plt.xticks(rotation=360)\n",
        "    for i in bar_chart.containers:\n",
        "        bar_chart.bar_label(i, label_type='edge')\n",
        "    plt.show()\n",
        "\n",
        "\n",
        "def showTop10DataInChart(df):\n",
        "    plt.figure(figsize=(10, 6))\n",
        "    xDataAxis = list(range(0, df.shape[1]))\n",
        "    yDataRows = list(df.values[1: 10])\n",
        "    for y in yDataRows:\n",
        "        plt.plot(xDataAxis, y)\n",
        "    plt.show()"
      ]
    },
    {
      "cell_type": "code",
      "execution_count": null,
      "metadata": {
        "id": "CdhQyoWtnEQK",
        "outputId": "de256dd4-89e3-43ad-d236-50d22776def6"
      },
      "outputs": [],
      "source": [
        "\n",
        "ptbdb_normal = pd.read_csv(Path.get('ptbdb_normal'), header=None )\n",
        "ptbdb_normal_with_columns = addColumnsToDataframe(ptbdb_normal)\n",
        "\n",
        "# convert target varaible from float to string\n",
        "ptbdb_normal_with_columns = convertColumnAsInt(ptbdb_normal_with_columns, 'target')\n",
        "\n",
        "# get the category value counts.\n",
        "ptbdb_normal_category_counts = ptbdb_normal_with_columns['target'].value_counts()\n",
        "\n",
        "#getBarChartFromCategoryValueCounts(ptbdb_normal_category_counts)"
      ]
    },
    {
      "cell_type": "markdown",
      "metadata": {
        "id": "W0gR7_9fnEQK"
      },
      "source": [
        "Check the meanings of the Data Rows(first 10 rows as example):"
      ]
    },
    {
      "cell_type": "code",
      "execution_count": null,
      "metadata": {
        "id": "S10WxQ_7nEQL",
        "outputId": "8e75b7b2-20ba-482f-b796-8dff24c38067"
      },
      "outputs": [],
      "source": [
        "showTop10DataInChart(ptbdb_normal_with_columns)"
      ]
    },
    {
      "cell_type": "code",
      "execution_count": null,
      "metadata": {
        "id": "ErOBkS60nEQL",
        "outputId": "fa819d37-b35f-4318-ff5b-2c3e820b15c3"
      },
      "outputs": [],
      "source": [
        "ptbdb_abnormal = pd.read_csv(Path.get('ptbdb_abnormal'), header=None )\n",
        "ptbdb_abnormal_with_columns = addColumnsToDataframe(ptbdb_abnormal)\n",
        "ptbdb_abnormal_with_columns = convertColumnAsInt(ptbdb_abnormal, 'target')\n",
        "ptbdb_abnormal_category_count = ptbdb_abnormal_with_columns['target'].value_counts()\n",
        "#getBarChartFromCategoryValueCounts(ptbdb_abnormal_category_count)"
      ]
    },
    {
      "cell_type": "markdown",
      "metadata": {
        "id": "rIkCDW_7nEQM"
      },
      "source": [
        "Check the sample of abnormal heartbeat signal(first 10 sample as):"
      ]
    },
    {
      "cell_type": "code",
      "execution_count": null,
      "metadata": {
        "id": "Dr15s_ANnEQM",
        "outputId": "96bad298-f52c-46f5-d3b7-610801a9b852"
      },
      "outputs": [],
      "source": [
        "showTop10DataInChart(ptbdb_abnormal_with_columns)"
      ]
    },
    {
      "cell_type": "code",
      "execution_count": null,
      "metadata": {
        "id": "gQ24uiUTnEQM",
        "outputId": "783177cd-e29b-415b-800c-b66a45ab7cf8"
      },
      "outputs": [],
      "source": [
        "mitbih_train = pd.read_csv(Path.get('mitbih_test'), header=None )\n",
        "mitbih_train_with_columns = addColumnsToDataframe(mitbih_train)\n",
        "mitbih_train_with_columns = convertColumnAsInt(mitbih_train_with_columns, 'target')\n",
        "getBarChartFromCategoryValueCounts(mitbih_train_with_columns['target'].value_counts())"
      ]
    },
    {
      "cell_type": "code",
      "execution_count": null,
      "metadata": {
        "id": "zx8HMVQLnEQM",
        "outputId": "d49537ff-91ed-493e-edeb-ea7f679d680f"
      },
      "outputs": [],
      "source": [
        "mitbih_test = pd.read_csv(Path.get('mitbih_test'), header=None )\n",
        "mitbih_test_with_columns = addColumnsToDataframe(mitbih_test)\n",
        "mitbih_test_with_columns = convertColumnAsInt(mitbih_test_with_columns, 'target')\n",
        "getBarChartFromCategoryValueCounts(mitbih_test_with_columns['target'].value_counts())"
      ]
    },
    {
      "cell_type": "code",
      "execution_count": null,
      "metadata": {},
      "outputs": [],
      "source": [
        "#train:\n",
        "print(mitbih_train.shape)\n",
        "print(\"The train data has 87554 and 188 columns.\")\n",
        "\n",
        "#test:\n",
        "print(mitbih_test.shape)\n",
        "print(\"The test data has 21891 and 188 columns.\")"
      ]
    },
    {
      "cell_type": "code",
      "execution_count": null,
      "metadata": {},
      "outputs": [],
      "source": [
        "print(\"Missing values in train:\", mitbih_train.isnull().sum())\n",
        "print(\"Missing values in test:\", mitbih_test.isnull().sum())\n",
        "print(\"The data has no missing values.\")"
      ]
    },
    {
      "cell_type": "code",
      "execution_count": null,
      "metadata": {},
      "outputs": [],
      "source": [
        "print(mitbih_train.dtypes)\n",
        "print(mitbih_test.dtypes)\n",
        "print(\"The features are numeric. All columns have the type float64, while the target column is int32.\")"
      ]
    },
    {
      "cell_type": "code",
      "execution_count": null,
      "metadata": {},
      "outputs": [],
      "source": [
        "# Define your mapping dictionary\n",
        "class_mapping = {\n",
        "    0: 'Normal beat',\n",
        "    1: 'Supraventricular premature beat',\n",
        "    2: 'Premature ventricular contraction',\n",
        "    3: 'Fusion of ventricular and normal beat',\n",
        "    4: 'Unclassifiable beat'\n",
        "}\n",
        "\n",
        "# Convert target variable to categorical in both training and test datasets\n",
        "mitbih_train['target'] = mitbih_train['target'].map(class_mapping)\n",
        "mitbih_test['target'] = mitbih_test['target'].map(class_mapping)"
      ]
    },
    {
      "cell_type": "code",
      "execution_count": null,
      "metadata": {},
      "outputs": [],
      "source": [
        "# Drop rows where 'target_categorical' is 'Unclassifiable beat'\n",
        "mitbih_train = mitbih_train[mitbih_train['target'] != 'Unclassifiable beat']\n",
        "mitbih_test = mitbih_test[mitbih_test['target'] != 'Unclassifiable beat']"
      ]
    },
    {
      "cell_type": "code",
      "execution_count": null,
      "metadata": {},
      "outputs": [],
      "source": [
        "print(mitbih_train[\"target\"])\n",
        "print(mitbih_test[\"target\"])"
      ]
    },
    {
      "cell_type": "code",
      "execution_count": null,
      "metadata": {},
      "outputs": [],
      "source": [
        "mitbih_train.head()"
      ]
    },
    {
      "cell_type": "code",
      "execution_count": null,
      "metadata": {},
      "outputs": [],
      "source": [
        "mitbih_test.head()"
      ]
    },
    {
      "cell_type": "code",
      "execution_count": null,
      "metadata": {},
      "outputs": [],
      "source": [
        "#training data\n",
        "value_counts_series = mitbih_train['target'].value_counts()\n",
        "\n",
        "# Define custom colors for each category\n",
        "colors = ['green', 'orange', 'yellow','red']\n",
        "\n",
        "plt.figure(figsize=(10, 6))\n",
        "bar_chart = value_counts_series.plot(kind='bar', color=colors)\n",
        "plt.xlabel('Categories')\n",
        "plt.ylabel('Count')\n",
        "plt.title('Distribution of Target Categories (Training Dataset)')\n",
        "plt.grid(False)\n",
        "plt.xticks(rotation=90)\n",
        "for i in bar_chart.containers:\n",
        "    bar_chart.bar_label(i, label_type='edge')\n",
        "plt.show()"
      ]
    },
    {
      "cell_type": "code",
      "execution_count": null,
      "metadata": {},
      "outputs": [],
      "source": [
        "# testing dataset\n",
        "\n",
        "value_counts_series = mitbih_test['target'].value_counts()\n",
        "\n",
        "# Define custom colors for each category\n",
        "colors = ['green', 'orange', 'yellow','red']\n",
        "\n",
        "plt.figure(figsize=(10, 6))\n",
        "bar_chart = value_counts_series.plot(kind='bar', color=colors)\n",
        "plt.xlabel('Categories')\n",
        "plt.ylabel('Count')\n",
        "plt.title('Distribution of Target Categories (Testing Dataset)')\n",
        "plt.grid(False)\n",
        "plt.xticks(rotation=90)\n",
        "for i in bar_chart.containers:\n",
        "    bar_chart.bar_label(i, label_type='edge')\n",
        "plt.show()"
      ]
    },
    {
      "cell_type": "code",
      "execution_count": null,
      "metadata": {},
      "outputs": [],
      "source": [
        "import matplotlib.pyplot as plt\n",
        "\n",
        "# Function to plot overlay of ECG signals from both datasets for a single class\n",
        "def plot_overlay_ecg_signals(df, label, color, dataset_label):\n",
        "    sample_data = df[df['target'] == label].iloc[0]\n",
        "    plt.plot(sample_data[:-1], label=f'{dataset_label}: {label}', color=color)\n",
        "\n",
        "    plt.title(f\"Overlay of ECG Signals - {dataset_label}\")\n",
        "    plt.ylabel('Amplitude')\n",
        "    plt.grid(True)\n",
        "    plt.xticks([])  # Remove x-axis ticks and labels\n",
        "    plt.legend()\n",
        "\n",
        "# List of classes to plot\n",
        "classes_to_plot = ['Normal beat', 'Premature ventricular contraction', \n",
        "                   'Supraventricular premature beat', 'Fusion of ventricular and normal beat']\n",
        "\n",
        "# Colors for each class\n",
        "colors = ['green', 'orange', 'yellow', 'red']\n",
        "\n",
        "# Plotting overlay for each class in both datasets\n",
        "plt.figure(figsize=(12, 8))\n",
        "\n",
        "# Plotting for training dataset\n",
        "for label, color in zip(classes_to_plot, colors):\n",
        "    plot_overlay_ecg_signals(mitbih_train, label, color, 'Training')\n",
        "\n",
        "plt.tight_layout()\n",
        "plt.show()\n",
        "\n",
        "plt.figure(figsize=(12, 8))\n",
        "\n",
        "# Plotting for testing dataset\n",
        "for label, color in zip(classes_to_plot, colors):\n",
        "    plot_overlay_ecg_signals(mitbih_test, label, color, 'Testing')\n",
        "\n",
        "plt.tight_layout()\n",
        "plt.show()"
      ]
    },
    {
      "cell_type": "code",
      "execution_count": null,
      "metadata": {},
      "outputs": [],
      "source": [
        "def plotCorrelationMatrixByClass(mitbih_train, target, graphWidth=12, tick_frequency=20):\n",
        "    # Ensure mitbih_train is a DataFrame and has at least 2 columns\n",
        "    if not isinstance(mitbih_train, pd.DataFrame) or mitbih_train.shape[1] < 2:\n",
        "        print(f'Error: Invalid DataFrame provided. Expected at least 2 columns.')\n",
        "        return\n",
        "    \n",
        "    # Check if target column exists in the DataFrame\n",
        "    if target not in mitbih_train.columns:\n",
        "        print(f'Error: Target variable \"{target}\" not found in DataFrame columns.')\n",
        "        return\n",
        "    \n",
        "    # Exclude the target variable from the DataFrame\n",
        "    df_without_target = mitbih_train.drop(columns=[target])\n",
        "    \n",
        "    # Get unique classes of the target variable\n",
        "    unique_classes = mitbih_train[target].unique()\n",
        "    \n",
        "    # Iterate through unique classes and plot correlation matrix for each\n",
        "    for cls in unique_classes:\n",
        "        # Subset the data for the current class\n",
        "        df_class = df_without_target[mitbih_train[target] == cls]\n",
        "        \n",
        "        # Drop columns with NaN and keep those with more than 1 unique value\n",
        "        df_class = df_class.dropna(axis='columns', how='any')\n",
        "        df_class = df_class[[col for col in df_class if df_class[col].nunique() > 1]]\n",
        "        \n",
        "        # Check if there are enough columns left for correlation calculation\n",
        "        if df_class.shape[1] < 2:\n",
        "            print(f'No correlation plots shown for class \"{cls}\": The number of non-NaN or constant columns ({df_class.shape[1]}) is less than 2')\n",
        "            continue\n",
        "        \n",
        "        # Calculate correlation matrix\n",
        "        corr = df_class.corr()\n",
        "        \n",
        "        # Plotting settings with increased figure size\n",
        "        plt.figure(figsize=(graphWidth, graphWidth), dpi=80, facecolor='w', edgecolor='k')\n",
        "        corrMat = plt.matshow(corr, fignum=1)\n",
        "        \n",
        "        # Set x and y tick labels every tick_frequency-th label\n",
        "        plt.xticks(range(0, len(corr.columns), tick_frequency), corr.columns[::tick_frequency], rotation=90)\n",
        "        plt.yticks(range(0, len(corr.columns), tick_frequency), corr.columns[::tick_frequency])\n",
        "        \n",
        "        plt.gca().xaxis.tick_bottom()\n",
        "        plt.colorbar(corrMat)\n",
        "        plt.title(f'Correlation Matrix for Target Class: {cls}', fontsize=15)\n",
        "        plt.show()\n",
        "\n",
        "# Beispielanwendung mit dem DataFrame mitbih_train und der Zielvariablen 'target'\n",
        "plotCorrelationMatrixByClass(mitbih_train, target='target', graphWidth=15, tick_frequency=20)"
      ]
    }
  ],
  "metadata": {
    "colab": {
      "provenance": []
    },
    "kernelspec": {
      "display_name": "Python 3",
      "language": "python",
      "name": "python3"
    },
    "language_info": {
      "codemirror_mode": {
        "name": "ipython",
        "version": 3
      },
      "file_extension": ".py",
      "mimetype": "text/x-python",
      "name": "python",
      "nbconvert_exporter": "python",
      "pygments_lexer": "ipython3",
      "version": "3.10.14"
    }
  },
  "nbformat": 4,
  "nbformat_minor": 0
}
